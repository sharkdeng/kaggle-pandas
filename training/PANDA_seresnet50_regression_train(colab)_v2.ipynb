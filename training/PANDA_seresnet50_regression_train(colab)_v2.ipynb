{
  "nbformat": 4,
  "nbformat_minor": 0,
  "metadata": {
    "kernelspec": {
      "language": "python",
      "display_name": "Python 3",
      "name": "python3"
    },
    "language_info": {
      "pygments_lexer": "ipython3",
      "nbconvert_exporter": "python",
      "version": "3.6.4",
      "file_extension": ".py",
      "codemirror_mode": {
        "name": "ipython",
        "version": 3
      },
      "name": "python",
      "mimetype": "text/x-python"
    },
    "colab": {
      "name": "PANDA-seresnet50-regression-train(colab)-v2.ipynb",
      "provenance": [],
      "collapsed_sections": [],
      "toc_visible": true
    },
    "accelerator": "GPU",
    "widgets": {
      "application/vnd.jupyter.widget-state+json": {
        "3606a40447134a4883b6082f06c78f57": {
          "model_module": "@jupyter-widgets/controls",
          "model_name": "HBoxModel",
          "state": {
            "_view_name": "HBoxView",
            "_dom_classes": [],
            "_model_name": "HBoxModel",
            "_view_module": "@jupyter-widgets/controls",
            "_model_module_version": "1.5.0",
            "_view_count": null,
            "_view_module_version": "1.5.0",
            "box_style": "",
            "layout": "IPY_MODEL_14b6aa70d4ef48e185d4b53e1da22f65",
            "_model_module": "@jupyter-widgets/controls",
            "children": [
              "IPY_MODEL_571e607787d243da858f95e0f41af709",
              "IPY_MODEL_508d5322f68d4ead9cbce446bd452174"
            ]
          }
        },
        "14b6aa70d4ef48e185d4b53e1da22f65": {
          "model_module": "@jupyter-widgets/base",
          "model_name": "LayoutModel",
          "state": {
            "_view_name": "LayoutView",
            "grid_template_rows": null,
            "right": null,
            "justify_content": null,
            "_view_module": "@jupyter-widgets/base",
            "overflow": null,
            "_model_module_version": "1.2.0",
            "_view_count": null,
            "flex_flow": null,
            "width": null,
            "min_width": null,
            "border": null,
            "align_items": null,
            "bottom": null,
            "_model_module": "@jupyter-widgets/base",
            "top": null,
            "grid_column": null,
            "overflow_y": null,
            "overflow_x": null,
            "grid_auto_flow": null,
            "grid_area": null,
            "grid_template_columns": null,
            "flex": null,
            "_model_name": "LayoutModel",
            "justify_items": null,
            "grid_row": null,
            "max_height": null,
            "align_content": null,
            "visibility": null,
            "align_self": null,
            "height": null,
            "min_height": null,
            "padding": null,
            "grid_auto_rows": null,
            "grid_gap": null,
            "max_width": null,
            "order": null,
            "_view_module_version": "1.2.0",
            "grid_template_areas": null,
            "object_position": null,
            "object_fit": null,
            "grid_auto_columns": null,
            "margin": null,
            "display": null,
            "left": null
          }
        },
        "571e607787d243da858f95e0f41af709": {
          "model_module": "@jupyter-widgets/controls",
          "model_name": "FloatProgressModel",
          "state": {
            "_view_name": "ProgressView",
            "style": "IPY_MODEL_c2f74061ed754ffabeec0ff448aaa454",
            "_dom_classes": [],
            "description": "loss: 2.6711, cohen: 0.2500:  31%",
            "_model_name": "FloatProgressModel",
            "bar_style": "",
            "max": 2323,
            "_view_module": "@jupyter-widgets/controls",
            "_model_module_version": "1.5.0",
            "value": 712,
            "_view_count": null,
            "_view_module_version": "1.5.0",
            "orientation": "horizontal",
            "min": 0,
            "description_tooltip": null,
            "_model_module": "@jupyter-widgets/controls",
            "layout": "IPY_MODEL_da934b8baf50452f9a0199ec16b59fcc"
          }
        },
        "508d5322f68d4ead9cbce446bd452174": {
          "model_module": "@jupyter-widgets/controls",
          "model_name": "HTMLModel",
          "state": {
            "_view_name": "HTMLView",
            "style": "IPY_MODEL_8632a7daf28547519b56bc0ce5a94284",
            "_dom_classes": [],
            "description": "",
            "_model_name": "HTMLModel",
            "placeholder": "​",
            "_view_module": "@jupyter-widgets/controls",
            "_model_module_version": "1.5.0",
            "value": " 712/2323 [24:20&lt;1:07:10,  2.50s/it]",
            "_view_count": null,
            "_view_module_version": "1.5.0",
            "description_tooltip": null,
            "_model_module": "@jupyter-widgets/controls",
            "layout": "IPY_MODEL_70f8d8e44ecf41ddbe2023e4e07bda94"
          }
        },
        "c2f74061ed754ffabeec0ff448aaa454": {
          "model_module": "@jupyter-widgets/controls",
          "model_name": "ProgressStyleModel",
          "state": {
            "_view_name": "StyleView",
            "_model_name": "ProgressStyleModel",
            "description_width": "initial",
            "_view_module": "@jupyter-widgets/base",
            "_model_module_version": "1.5.0",
            "_view_count": null,
            "_view_module_version": "1.2.0",
            "bar_color": null,
            "_model_module": "@jupyter-widgets/controls"
          }
        },
        "da934b8baf50452f9a0199ec16b59fcc": {
          "model_module": "@jupyter-widgets/base",
          "model_name": "LayoutModel",
          "state": {
            "_view_name": "LayoutView",
            "grid_template_rows": null,
            "right": null,
            "justify_content": null,
            "_view_module": "@jupyter-widgets/base",
            "overflow": null,
            "_model_module_version": "1.2.0",
            "_view_count": null,
            "flex_flow": null,
            "width": null,
            "min_width": null,
            "border": null,
            "align_items": null,
            "bottom": null,
            "_model_module": "@jupyter-widgets/base",
            "top": null,
            "grid_column": null,
            "overflow_y": null,
            "overflow_x": null,
            "grid_auto_flow": null,
            "grid_area": null,
            "grid_template_columns": null,
            "flex": null,
            "_model_name": "LayoutModel",
            "justify_items": null,
            "grid_row": null,
            "max_height": null,
            "align_content": null,
            "visibility": null,
            "align_self": null,
            "height": null,
            "min_height": null,
            "padding": null,
            "grid_auto_rows": null,
            "grid_gap": null,
            "max_width": null,
            "order": null,
            "_view_module_version": "1.2.0",
            "grid_template_areas": null,
            "object_position": null,
            "object_fit": null,
            "grid_auto_columns": null,
            "margin": null,
            "display": null,
            "left": null
          }
        },
        "8632a7daf28547519b56bc0ce5a94284": {
          "model_module": "@jupyter-widgets/controls",
          "model_name": "DescriptionStyleModel",
          "state": {
            "_view_name": "StyleView",
            "_model_name": "DescriptionStyleModel",
            "description_width": "",
            "_view_module": "@jupyter-widgets/base",
            "_model_module_version": "1.5.0",
            "_view_count": null,
            "_view_module_version": "1.2.0",
            "_model_module": "@jupyter-widgets/controls"
          }
        },
        "70f8d8e44ecf41ddbe2023e4e07bda94": {
          "model_module": "@jupyter-widgets/base",
          "model_name": "LayoutModel",
          "state": {
            "_view_name": "LayoutView",
            "grid_template_rows": null,
            "right": null,
            "justify_content": null,
            "_view_module": "@jupyter-widgets/base",
            "overflow": null,
            "_model_module_version": "1.2.0",
            "_view_count": null,
            "flex_flow": null,
            "width": null,
            "min_width": null,
            "border": null,
            "align_items": null,
            "bottom": null,
            "_model_module": "@jupyter-widgets/base",
            "top": null,
            "grid_column": null,
            "overflow_y": null,
            "overflow_x": null,
            "grid_auto_flow": null,
            "grid_area": null,
            "grid_template_columns": null,
            "flex": null,
            "_model_name": "LayoutModel",
            "justify_items": null,
            "grid_row": null,
            "max_height": null,
            "align_content": null,
            "visibility": null,
            "align_self": null,
            "height": null,
            "min_height": null,
            "padding": null,
            "grid_auto_rows": null,
            "grid_gap": null,
            "max_width": null,
            "order": null,
            "_view_module_version": "1.2.0",
            "grid_template_areas": null,
            "object_position": null,
            "object_fit": null,
            "grid_auto_columns": null,
            "margin": null,
            "display": null,
            "left": null
          }
        }
      }
    }
  },
  "cells": [
    {
      "cell_type": "code",
      "metadata": {
        "id": "3R8GIsyQ-OKZ",
        "colab_type": "code",
        "colab": {}
      },
      "source": [
        "# colab version\n",
        "\n",
        "# change train_test_split to 8 fold"
      ],
      "execution_count": 0,
      "outputs": []
    },
    {
      "cell_type": "code",
      "metadata": {
        "id": "PELroWiH2Uru",
        "colab_type": "code",
        "colab": {}
      },
      "source": [
        "DEBUG = False"
      ],
      "execution_count": 0,
      "outputs": []
    },
    {
      "cell_type": "code",
      "metadata": {
        "_uuid": "8f2839f25d086af736a60e9eeb907d3b93b6e0e5",
        "_cell_guid": "b1076dfc-b9ad-4769-8c92-a6c4dae69d19",
        "trusted": true,
        "id": "BzpHeSAPDkUp",
        "colab_type": "code",
        "colab": {}
      },
      "source": [
        "import numpy as np\n",
        "import pandas as pd\n",
        "import os, random, glob, cv2, gc\n",
        "from PIL import Image\n",
        "from tqdm.notebook import tqdm\n",
        "import matplotlib.pyplot as plt\n",
        "from termcolor import colored\n",
        "\n",
        "from sklearn.utils import shuffle\n",
        "from sklearn.metrics import accuracy_score\n",
        "from sklearn.metrics import cohen_kappa_score\n",
        "from sklearn.model_selection import train_test_split\n",
        "\n",
        "import torch \n",
        "import torch.nn as nn\n",
        "import torch.nn.functional as F\n",
        "from torch.utils.data import Dataset, DataLoader\n",
        "from torch import FloatTensor\n",
        "\n",
        "from albumentations import Compose, Normalize, HorizontalFlip, VerticalFlip, Transpose\n",
        "from zipfile import ZipFile\n",
        "from functools import partial\n",
        "import scipy as sp\n",
        "import time"
      ],
      "execution_count": 0,
      "outputs": []
    },
    {
      "cell_type": "code",
      "metadata": {
        "trusted": true,
        "id": "a8P_IHmXDkUs",
        "colab_type": "code",
        "outputId": "0e8a5dd1-0752-4007-98ca-255265892d61",
        "colab": {
          "base_uri": "https://localhost:8080/",
          "height": 34
        }
      },
      "source": [
        "device = torch.device('cuda') if torch.cuda.is_available() else torch.device('cpu')\n",
        "device"
      ],
      "execution_count": 67,
      "outputs": [
        {
          "output_type": "execute_result",
          "data": {
            "text/plain": [
              "device(type='cuda')"
            ]
          },
          "metadata": {
            "tags": []
          },
          "execution_count": 67
        }
      ]
    },
    {
      "cell_type": "code",
      "metadata": {
        "id": "HvqpwTLG2Z-W",
        "colab_type": "code",
        "colab": {}
      },
      "source": [
        "class config:\n",
        "    IMG_SIZE = 512\n",
        "    BS = 4\n",
        "    SZ = 256\n",
        "    N = 36\n",
        "    LEVEL = 1\n",
        "    LOG = 'seresnetxt-log.txt'\n",
        "    SEED = 2020"
      ],
      "execution_count": 0,
      "outputs": []
    },
    {
      "cell_type": "code",
      "metadata": {
        "id": "g3E0BKZ-SOVv",
        "colab_type": "code",
        "colab": {}
      },
      "source": [
        "# seed\n",
        "def seed_everything(seed=2020):\n",
        "    np.random.seed(seed)\n",
        "    random.seed(seed)\n",
        "    os.environ['PYTHONHASHSEED'] = str(seed)\n",
        "    torch.manual_seed(seed)\n",
        "    torch.cuda.manual_seed(seed)\n",
        "    torch.backends.cudnn.deterministic = True\n",
        "    torch.backends.cudnn.benchmark = True\n",
        "    \n",
        "seed_everything(config.SEED)"
      ],
      "execution_count": 0,
      "outputs": []
    },
    {
      "cell_type": "code",
      "metadata": {
        "id": "1rU3gXTvMBej",
        "colab_type": "code",
        "colab": {}
      },
      "source": [
        "Image.MAX_IMAGE_PIXELS = 933120000"
      ],
      "execution_count": 0,
      "outputs": []
    },
    {
      "cell_type": "code",
      "metadata": {
        "id": "mNJVSFonYnnX",
        "colab_type": "code",
        "colab": {}
      },
      "source": [
        "!rm -rf /root/.kaggle\n",
        "!mkdir /root/.kaggle"
      ],
      "execution_count": 0,
      "outputs": []
    },
    {
      "cell_type": "code",
      "metadata": {
        "id": "-f1UzCeT38TJ",
        "colab_type": "code",
        "colab": {}
      },
      "source": [
        "!mv kaggle.json /root/.kaggle/kaggle.json\n",
        "!chmod 600 /root/.kaggle/kaggle.json"
      ],
      "execution_count": 0,
      "outputs": []
    },
    {
      "cell_type": "code",
      "metadata": {
        "id": "lPu--faG2hvJ",
        "colab_type": "code",
        "outputId": "f456c989-1f4b-44e9-b5dd-acb8a4660141",
        "colab": {
          "base_uri": "https://localhost:8080/",
          "height": 68
        }
      },
      "source": [
        "!kaggle datasets download lopuhin/panda-2020-level-1-2"
      ],
      "execution_count": 0,
      "outputs": [
        {
          "output_type": "stream",
          "text": [
            "Downloading panda-2020-level-1-2.zip to /content\n",
            "100% 9.08G/9.10G [03:36<00:00, 31.8MB/s]\n",
            "100% 9.10G/9.10G [03:37<00:00, 45.0MB/s]\n"
          ],
          "name": "stdout"
        }
      ]
    },
    {
      "cell_type": "code",
      "metadata": {
        "id": "3C7OG-r65uF8",
        "colab_type": "code",
        "outputId": "785892ba-868c-45c3-f32a-9e17cb86ee08",
        "colab": {
          "base_uri": "https://localhost:8080/",
          "height": 34
        }
      },
      "source": [
        "# test zip file\n",
        "myzip = ZipFile('panda-2020-level-1-2.zip')\n",
        "files = myzip.infolist()\n",
        "f = myzip.open(files[1])\n",
        "img = Image.open(f)\n",
        "print(img.size, img.mode, len(img.getdata()))"
      ],
      "execution_count": 71,
      "outputs": [
        {
          "output_type": "stream",
          "text": [
            "(1368, 5376) RGB 7354368\n"
          ],
          "name": "stdout"
        }
      ]
    },
    {
      "cell_type": "markdown",
      "metadata": {
        "id": "f_yL_-hPDkUu",
        "colab_type": "text"
      },
      "source": [
        "# Data"
      ]
    },
    {
      "cell_type": "code",
      "metadata": {
        "trusted": true,
        "id": "vidihhQADkUv",
        "colab_type": "code",
        "outputId": "17d35605-a0bc-48e7-d70d-42c3bc9cbcca",
        "colab": {
          "base_uri": "https://localhost:8080/",
          "height": 204
        }
      },
      "source": [
        "df = pd.read_csv(\"train.csv\")\n",
        "df.head()"
      ],
      "execution_count": 72,
      "outputs": [
        {
          "output_type": "execute_result",
          "data": {
            "text/html": [
              "<div>\n",
              "<style scoped>\n",
              "    .dataframe tbody tr th:only-of-type {\n",
              "        vertical-align: middle;\n",
              "    }\n",
              "\n",
              "    .dataframe tbody tr th {\n",
              "        vertical-align: top;\n",
              "    }\n",
              "\n",
              "    .dataframe thead th {\n",
              "        text-align: right;\n",
              "    }\n",
              "</style>\n",
              "<table border=\"1\" class=\"dataframe\">\n",
              "  <thead>\n",
              "    <tr style=\"text-align: right;\">\n",
              "      <th></th>\n",
              "      <th>image_id</th>\n",
              "      <th>data_provider</th>\n",
              "      <th>isup_grade</th>\n",
              "      <th>gleason_score</th>\n",
              "      <th>split</th>\n",
              "    </tr>\n",
              "  </thead>\n",
              "  <tbody>\n",
              "    <tr>\n",
              "      <th>0</th>\n",
              "      <td>2362d93816e6dff7db5f3de85b660777</td>\n",
              "      <td>radboud</td>\n",
              "      <td>1</td>\n",
              "      <td>3+3</td>\n",
              "      <td>5.0</td>\n",
              "    </tr>\n",
              "    <tr>\n",
              "      <th>1</th>\n",
              "      <td>d527d0d353eef920f47505af9fe37956</td>\n",
              "      <td>radboud</td>\n",
              "      <td>2</td>\n",
              "      <td>3+4</td>\n",
              "      <td>6.0</td>\n",
              "    </tr>\n",
              "    <tr>\n",
              "      <th>2</th>\n",
              "      <td>c874de63fb72b5c081bbea4a5a7aae65</td>\n",
              "      <td>radboud</td>\n",
              "      <td>0</td>\n",
              "      <td>negative</td>\n",
              "      <td>2.0</td>\n",
              "    </tr>\n",
              "    <tr>\n",
              "      <th>3</th>\n",
              "      <td>dbf5972f6e8559cf175c232310070b6e</td>\n",
              "      <td>karolinska</td>\n",
              "      <td>1</td>\n",
              "      <td>3+3</td>\n",
              "      <td>0.0</td>\n",
              "    </tr>\n",
              "    <tr>\n",
              "      <th>4</th>\n",
              "      <td>0e1f3c283a5756b1372fc67e5230dd35</td>\n",
              "      <td>radboud</td>\n",
              "      <td>1</td>\n",
              "      <td>3+3</td>\n",
              "      <td>2.0</td>\n",
              "    </tr>\n",
              "  </tbody>\n",
              "</table>\n",
              "</div>"
            ],
            "text/plain": [
              "                           image_id data_provider  ...  gleason_score split\n",
              "0  2362d93816e6dff7db5f3de85b660777       radboud  ...            3+3   5.0\n",
              "1  d527d0d353eef920f47505af9fe37956       radboud  ...            3+4   6.0\n",
              "2  c874de63fb72b5c081bbea4a5a7aae65       radboud  ...       negative   2.0\n",
              "3  dbf5972f6e8559cf175c232310070b6e    karolinska  ...            3+3   0.0\n",
              "4  0e1f3c283a5756b1372fc67e5230dd35       radboud  ...            3+3   2.0\n",
              "\n",
              "[5 rows x 5 columns]"
            ]
          },
          "metadata": {
            "tags": []
          },
          "execution_count": 72
        }
      ]
    },
    {
      "cell_type": "code",
      "metadata": {
        "trusted": true,
        "id": "YPRnvsTWDkUx",
        "colab_type": "code",
        "outputId": "7212c813-3b2b-4475-a944-88a541649a20",
        "colab": {
          "base_uri": "https://localhost:8080/",
          "height": 34
        }
      },
      "source": [
        "# shuffle\n",
        "df = shuffle(df)\n",
        "\n",
        "# split\n",
        "train_df = df[df.split != 0]\n",
        "val_df = df[df.split == 0]\n",
        "n = len(val_df) // 2\n",
        "test_df = val_df.iloc[:n]\n",
        "val_df = val_df.iloc[n:]\n",
        "\n",
        "\n",
        "len(train_df), len(val_df), len(test_df)"
      ],
      "execution_count": 73,
      "outputs": [
        {
          "output_type": "execute_result",
          "data": {
            "text/plain": [
              "(9289, 664, 663)"
            ]
          },
          "metadata": {
            "tags": []
          },
          "execution_count": 73
        }
      ]
    },
    {
      "cell_type": "code",
      "metadata": {
        "trusted": true,
        "id": "luLtb7IODkU0",
        "colab_type": "code",
        "outputId": "c9a28a1c-e2aa-43ba-e6f9-b17ed2ef24cb",
        "colab": {
          "base_uri": "https://localhost:8080/",
          "height": 204
        }
      },
      "source": [
        "train_df.head()"
      ],
      "execution_count": 74,
      "outputs": [
        {
          "output_type": "execute_result",
          "data": {
            "text/html": [
              "<div>\n",
              "<style scoped>\n",
              "    .dataframe tbody tr th:only-of-type {\n",
              "        vertical-align: middle;\n",
              "    }\n",
              "\n",
              "    .dataframe tbody tr th {\n",
              "        vertical-align: top;\n",
              "    }\n",
              "\n",
              "    .dataframe thead th {\n",
              "        text-align: right;\n",
              "    }\n",
              "</style>\n",
              "<table border=\"1\" class=\"dataframe\">\n",
              "  <thead>\n",
              "    <tr style=\"text-align: right;\">\n",
              "      <th></th>\n",
              "      <th>image_id</th>\n",
              "      <th>data_provider</th>\n",
              "      <th>isup_grade</th>\n",
              "      <th>gleason_score</th>\n",
              "      <th>split</th>\n",
              "    </tr>\n",
              "  </thead>\n",
              "  <tbody>\n",
              "    <tr>\n",
              "      <th>805</th>\n",
              "      <td>25a27922edaf3f338e8693ededcbe1c2</td>\n",
              "      <td>radboud</td>\n",
              "      <td>4</td>\n",
              "      <td>4+4</td>\n",
              "      <td>6.0</td>\n",
              "    </tr>\n",
              "    <tr>\n",
              "      <th>3218</th>\n",
              "      <td>f232dc705893be350eaf1afd474818aa</td>\n",
              "      <td>karolinska</td>\n",
              "      <td>2</td>\n",
              "      <td>3+4</td>\n",
              "      <td>3.0</td>\n",
              "    </tr>\n",
              "    <tr>\n",
              "      <th>9513</th>\n",
              "      <td>f0a6026f3c1dafdf2496721f3721c039</td>\n",
              "      <td>karolinska</td>\n",
              "      <td>1</td>\n",
              "      <td>3+3</td>\n",
              "      <td>2.0</td>\n",
              "    </tr>\n",
              "    <tr>\n",
              "      <th>8682</th>\n",
              "      <td>647946e65654e3e71e42eea5cc95d01a</td>\n",
              "      <td>karolinska</td>\n",
              "      <td>2</td>\n",
              "      <td>3+4</td>\n",
              "      <td>7.0</td>\n",
              "    </tr>\n",
              "    <tr>\n",
              "      <th>7508</th>\n",
              "      <td>e4bbe0282fbed7b4c2e82a36fec5246b</td>\n",
              "      <td>radboud</td>\n",
              "      <td>2</td>\n",
              "      <td>3+4</td>\n",
              "      <td>4.0</td>\n",
              "    </tr>\n",
              "  </tbody>\n",
              "</table>\n",
              "</div>"
            ],
            "text/plain": [
              "                              image_id data_provider  ...  gleason_score split\n",
              "805   25a27922edaf3f338e8693ededcbe1c2       radboud  ...            4+4   6.0\n",
              "3218  f232dc705893be350eaf1afd474818aa    karolinska  ...            3+4   3.0\n",
              "9513  f0a6026f3c1dafdf2496721f3721c039    karolinska  ...            3+3   2.0\n",
              "8682  647946e65654e3e71e42eea5cc95d01a    karolinska  ...            3+4   7.0\n",
              "7508  e4bbe0282fbed7b4c2e82a36fec5246b       radboud  ...            3+4   4.0\n",
              "\n",
              "[5 rows x 5 columns]"
            ]
          },
          "metadata": {
            "tags": []
          },
          "execution_count": 74
        }
      ]
    },
    {
      "cell_type": "markdown",
      "metadata": {
        "id": "7ogvgiR0DkU3",
        "colab_type": "text"
      },
      "source": [
        "# Augmentation"
      ]
    },
    {
      "cell_type": "code",
      "metadata": {
        "trusted": true,
        "id": "M7FlEPyTDkU4",
        "colab_type": "code",
        "colab": {}
      },
      "source": [
        "train_transforms = Compose([HorizontalFlip(p=0.5), \n",
        "                            Transpose(p=0.5),\n",
        "                            VerticalFlip(p=0.5)])\n",
        "val_transforms = Compose([])"
      ],
      "execution_count": 0,
      "outputs": []
    },
    {
      "cell_type": "markdown",
      "metadata": {
        "id": "_MBODeBcDkU6",
        "colab_type": "text"
      },
      "source": [
        "# Dataset"
      ]
    },
    {
      "cell_type": "code",
      "metadata": {
        "id": "3pp8cKyf96a9",
        "colab_type": "code",
        "colab": {}
      },
      "source": [
        "def get_tiles(img, level=1, SZ=256, N=36, mode=0):\n",
        "\n",
        "    h, w, c = img.shape\n",
        "    pad_h = (SZ - h % SZ) % SZ + ((SZ * mode) // 2)\n",
        "    pad_w = (SZ - w % SZ) % SZ + ((SZ * mode) // 2)\n",
        "\n",
        "    img2 = np.pad(img, [[pad_h // 2, pad_h - pad_h // 2], \n",
        "                        [pad_w // 2, pad_w - pad_w//2], \n",
        "                        [0,0]], constant_values=255)\n",
        "    img3 = img2.reshape(\n",
        "        img2.shape[0] // SZ,\n",
        "        SZ,\n",
        "        img2.shape[1] // SZ,\n",
        "        SZ,\n",
        "        3\n",
        "    )\n",
        "    \n",
        "    img3 = img3.transpose(0, 2, 1, 3, 4).reshape(-1, SZ, SZ, 3) # (783, 256, 256, 3)\n",
        "\n",
        "    # supplement\n",
        "    if len(img3) < N:\n",
        "        img3 = np.pad(img3, [ [0, N-len(img3)], [0,0],[0,0],[0,0]], constant_values=255)\n",
        "        \n",
        "    idxs = np.argsort(img3.reshape(img3.shape[0],-1).sum(-1))[:N]\n",
        "    img3 = img3[idxs]\n",
        "    \n",
        "    return img3"
      ],
      "execution_count": 0,
      "outputs": []
    },
    {
      "cell_type": "code",
      "metadata": {
        "trusted": true,
        "id": "Jh7ApeHiDkU6",
        "colab_type": "code",
        "colab": {}
      },
      "source": [
        "class MyDataset(Dataset):\n",
        "    def __init__(self, df, split='train', shuffle_df=False, shuffle_tiles=False):\n",
        "        super().__init__()\n",
        "        \n",
        "        if shuffle_df:\n",
        "            df = shuffle(df)\n",
        "        self.df = df.reset_index(drop=True)\n",
        "        \n",
        "        self.split = split\n",
        "        self.shuffle_tiles = shuffle_tiles\n",
        "            \n",
        "        \n",
        "    def __len__(self):\n",
        "        return len(self.df)\n",
        "    \n",
        "    def __getitem__(self, idx):\n",
        "        \n",
        "        name = self.df.image_id[idx] \n",
        "        f = myzip.open(f'train_images/train_images/{name}_1.jpeg')\n",
        "        img = Image.open(f)\n",
        "        img = np.array(img)\n",
        "            \n",
        "        # get tiles\n",
        "        tiles = get_tiles(img, config.LEVEL, config.SZ, config.N)\n",
        "        \n",
        "\n",
        "        # apply transform to each img\n",
        "        imgs = []\n",
        "        for t in tiles:\n",
        "            if self.split == 'train':\n",
        "                t_aug = train_transforms(**{'image': t})['image']\n",
        "            elif self.split == 'val':\n",
        "                t_aug = val_transforms(**{'image': t})['image']\n",
        "                \n",
        "            imgs.append(t_aug) \n",
        "        \n",
        "        \n",
        "        # shuffle tiles\n",
        "        if self.shuffle_tiles:\n",
        "            imgs = shuffle(imgs)\n",
        "     \n",
        "        # concat\n",
        "        n = int(np.sqrt(config.N))\n",
        "        images = np.zeros((config.SZ*n, config.SZ*n, 3), dtype=np.int32)\n",
        "        for i in range(n):\n",
        "            for j in range(n):\n",
        "                images[i*config.SZ : (i+1)*config.SZ, j*config.SZ : (j+1)*config.SZ, :] = imgs[i*n+j]\n",
        "        \n",
        "            \n",
        "        # normalize \n",
        "        images = 255 - images # reverse \n",
        "        if self.split == 'train':\n",
        "            images = train_transforms(image=images)['image']\n",
        "        images = Normalize(mean=[0.5, 0.5, 0.5], std=[0.5, 0.5, 0.5])(image=images)['image']\n",
        "        \n",
        "        # resize \n",
        "        images = cv2.resize(images, (config.IMG_SIZE, config.IMG_SIZE))\n",
        "        images = torch.tensor(images).permute(2, 0, 1)\n",
        "        label = torch.tensor(self.df.isup_grade[idx])\n",
        "        return images, label\n",
        "        "
      ],
      "execution_count": 0,
      "outputs": []
    },
    {
      "cell_type": "code",
      "metadata": {
        "trusted": true,
        "id": "Y-aC04QoDkU9",
        "colab_type": "code",
        "outputId": "c8a83e30-bee5-4d45-b175-85343f8a1a33",
        "colab": {
          "base_uri": "https://localhost:8080/",
          "height": 352
        }
      },
      "source": [
        "# test dataset\n",
        "train_ds = MyDataset(train_df, 'train', shuffle_tiles=True)\n",
        "x, y = train_ds[2]\n",
        "print((x*0.5+0.5).shape)\n",
        "plt.imshow(x.permute(1, 2, 0).numpy())\n",
        "plt.title(y)"
      ],
      "execution_count": 101,
      "outputs": [
        {
          "output_type": "stream",
          "text": [
            "Clipping input data to the valid range for imshow with RGB data ([0..1] for floats or [0..255] for integers).\n"
          ],
          "name": "stderr"
        },
        {
          "output_type": "stream",
          "text": [
            "torch.Size([3, 512, 512])\n"
          ],
          "name": "stdout"
        },
        {
          "output_type": "execute_result",
          "data": {
            "text/plain": [
              "Text(0.5, 1.0, 'tensor(1)')"
            ]
          },
          "metadata": {
            "tags": []
          },
          "execution_count": 101
        },
        {
          "output_type": "display_data",
          "data": {
            "image/png": "[encoded data removed]",
            "text/plain": [
              "<Figure size 432x288 with 1 Axes>"
            ]
          },
          "metadata": {
            "tags": [],
            "needs_background": "light"
          }
        }
      ]
    },
    {
      "cell_type": "code",
      "metadata": {
        "trusted": true,
        "id": "LnIojIr-DkU_",
        "colab_type": "code",
        "colab": {}
      },
      "source": [
        "train_ds = MyDataset(train_df, 'train', shuffle_tiles=True)\n",
        "train_dl = DataLoader(train_ds, batch_size=config.BS, shuffle=True) # use 32 means 2 images per batch, don't shuffle to preserve \n",
        "\n",
        "val_ds = MyDataset(val_df, 'val', shuffle_tiles=True)\n",
        "val_dl = DataLoader(val_ds, batch_size=config.BS, shuffle=True)\n",
        "\n",
        "test_ds = MyDataset(test_df, 'val', shuffle_tiles=True)\n",
        "test_dl = DataLoader(test_ds, batch_size=config.BS, shuffle=True)"
      ],
      "execution_count": 0,
      "outputs": []
    },
    {
      "cell_type": "code",
      "metadata": {
        "trusted": true,
        "id": "ON2N3Uo1DkVA",
        "colab_type": "code",
        "outputId": "3a92363c-8b49-460b-de31-fb4e4c2a274f",
        "colab": {
          "base_uri": "https://localhost:8080/",
          "height": 298
        }
      },
      "source": [
        "# test dl\n",
        "x, y = next(iter(train_dl))\n",
        "plt.imshow((x[0]*0.5+0.5).permute(1, 2, 0).numpy())\n",
        "plt.title(y[0])"
      ],
      "execution_count": 106,
      "outputs": [
        {
          "output_type": "execute_result",
          "data": {
            "text/plain": [
              "Text(0.5, 1.0, 'tensor(3)')"
            ]
          },
          "metadata": {
            "tags": []
          },
          "execution_count": 106
        },
        {
          "output_type": "display_data",
          "data": {
            "image/png": "[encoded data removed]",
            "text/plain": [
              "<Figure size 432x288 with 1 Axes>"
            ]
          },
          "metadata": {
            "tags": [],
            "needs_background": "light"
          }
        }
      ]
    },
    {
      "cell_type": "markdown",
      "metadata": {
        "id": "Zr2ZveMMDkVD",
        "colab_type": "text"
      },
      "source": [
        "# Model"
      ]
    },
    {
      "cell_type": "code",
      "metadata": {
        "trusted": true,
        "id": "Bn_StyKCDkVG",
        "colab_type": "code",
        "colab": {}
      },
      "source": [
        "from collections import OrderedDict\n",
        "import math\n",
        "\n",
        "\n",
        "class SEModule(nn.Module):\n",
        "\n",
        "    def __init__(self, channels, reduction):\n",
        "        super(SEModule, self).__init__()\n",
        "        self.avg_pool = nn.AdaptiveAvgPool2d(1)\n",
        "        self.fc1 = nn.Conv2d(channels, channels // reduction, kernel_size=1,\n",
        "                             padding=0)\n",
        "        self.relu = nn.ReLU(inplace=True)\n",
        "        self.fc2 = nn.Conv2d(channels // reduction, channels, kernel_size=1,\n",
        "                             padding=0)\n",
        "        self.sigmoid = nn.Sigmoid()\n",
        "\n",
        "    def forward(self, x):\n",
        "        module_input = x\n",
        "        x = self.avg_pool(x)\n",
        "        x = self.fc1(x)\n",
        "        x = self.relu(x)\n",
        "        x = self.fc2(x)\n",
        "        x = self.sigmoid(x)\n",
        "        return module_input * x\n",
        "\n",
        "\n",
        "class Bottleneck(nn.Module):\n",
        "    \"\"\"\n",
        "    Base class for bottlenecks that implements `forward()` method.\n",
        "    \"\"\"\n",
        "    def forward(self, x):\n",
        "        residual = x\n",
        "\n",
        "        out = self.conv1(x)\n",
        "        out = self.bn1(out)\n",
        "        out = self.relu(out)\n",
        "\n",
        "        out = self.conv2(out)\n",
        "        out = self.bn2(out)\n",
        "        out = self.relu(out)\n",
        "\n",
        "        out = self.conv3(out)\n",
        "        out = self.bn3(out)\n",
        "\n",
        "        if self.downsample is not None:\n",
        "            residual = self.downsample(x)\n",
        "\n",
        "        out = self.se_module(out) + residual\n",
        "        out = self.relu(out)\n",
        "\n",
        "        return out\n",
        "\n",
        "\n",
        "class SEBottleneck(Bottleneck):\n",
        "    \"\"\"\n",
        "    Bottleneck for SENet154.\n",
        "    \"\"\"\n",
        "    expansion = 4\n",
        "\n",
        "    def __init__(self, inplanes, planes, groups, reduction, stride=1,\n",
        "                 downsample=None):\n",
        "        super(SEBottleneck, self).__init__()\n",
        "        self.conv1 = nn.Conv2d(inplanes, planes * 2, kernel_size=1, bias=False)\n",
        "        self.bn1 = nn.BatchNorm2d(planes * 2)\n",
        "        self.conv2 = nn.Conv2d(planes * 2, planes * 4, kernel_size=3,\n",
        "                               stride=stride, padding=1, groups=groups,\n",
        "                               bias=False)\n",
        "        self.bn2 = nn.BatchNorm2d(planes * 4)\n",
        "        self.conv3 = nn.Conv2d(planes * 4, planes * 4, kernel_size=1,\n",
        "                               bias=False)\n",
        "        self.bn3 = nn.BatchNorm2d(planes * 4)\n",
        "        self.relu = nn.ReLU(inplace=True)\n",
        "        self.se_module = SEModule(planes * 4, reduction=reduction)\n",
        "        self.downsample = downsample\n",
        "        self.stride = stride\n",
        "\n",
        "\n",
        "class SEResNetBottleneck(Bottleneck):\n",
        "    \"\"\"\n",
        "    ResNet bottleneck with a Squeeze-and-Excitation module. It follows Caffe\n",
        "    implementation and uses `stride=stride` in `conv1` and not in `conv2`\n",
        "    (the latter is used in the torchvision implementation of ResNet).\n",
        "    \"\"\"\n",
        "    expansion = 4\n",
        "\n",
        "    def __init__(self, inplanes, planes, groups, reduction, stride=1,\n",
        "                 downsample=None):\n",
        "        super(SEResNetBottleneck, self).__init__()\n",
        "        self.conv1 = nn.Conv2d(inplanes, planes, kernel_size=1, bias=False,\n",
        "                               stride=stride)\n",
        "        self.bn1 = nn.BatchNorm2d(planes)\n",
        "        self.conv2 = nn.Conv2d(planes, planes, kernel_size=3, padding=1,\n",
        "                               groups=groups, bias=False)\n",
        "        self.bn2 = nn.BatchNorm2d(planes)\n",
        "        self.conv3 = nn.Conv2d(planes, planes * 4, kernel_size=1, bias=False)\n",
        "        self.bn3 = nn.BatchNorm2d(planes * 4)\n",
        "        self.relu = nn.ReLU(inplace=True)\n",
        "        self.se_module = SEModule(planes * 4, reduction=reduction)\n",
        "        self.downsample = downsample\n",
        "        self.stride = stride\n",
        "\n",
        "\n",
        "class SEResNeXtBottleneck(Bottleneck):\n",
        "    \"\"\"\n",
        "    ResNeXt bottleneck type C with a Squeeze-and-Excitation module.\n",
        "    \"\"\"\n",
        "    expansion = 4\n",
        "\n",
        "    def __init__(self, inplanes, planes, groups, reduction, stride=1,\n",
        "                 downsample=None, base_width=4):\n",
        "        super(SEResNeXtBottleneck, self).__init__()\n",
        "        width = math.floor(planes * (base_width / 64)) * groups\n",
        "        self.conv1 = nn.Conv2d(inplanes, width, kernel_size=1, bias=False,\n",
        "                               stride=1)\n",
        "        self.bn1 = nn.BatchNorm2d(width)\n",
        "        self.conv2 = nn.Conv2d(width, width, kernel_size=3, stride=stride,\n",
        "                               padding=1, groups=groups, bias=False)\n",
        "        self.bn2 = nn.BatchNorm2d(width)\n",
        "        self.conv3 = nn.Conv2d(width, planes * 4, kernel_size=1, bias=False)\n",
        "        self.bn3 = nn.BatchNorm2d(planes * 4)\n",
        "        self.relu = nn.ReLU(inplace=True)\n",
        "        self.se_module = SEModule(planes * 4, reduction=reduction)\n",
        "        self.downsample = downsample\n",
        "        self.stride = stride\n",
        "\n",
        "\n",
        "class SENet(nn.Module):\n",
        "\n",
        "    def __init__(self, block, layers, groups, reduction, dropout_p=0.2,\n",
        "                 inplanes=128, input_3x3=True, downsample_kernel_size=3,\n",
        "                 downsample_padding=1, num_classes=1000):\n",
        "        super(SENet, self).__init__()\n",
        "        self.inplanes = inplanes\n",
        "        if input_3x3:\n",
        "            layer0_modules = [\n",
        "                ('conv1', nn.Conv2d(3, 64, 3, stride=2, padding=1,\n",
        "                                    bias=False)),\n",
        "                ('bn1', nn.BatchNorm2d(64)),\n",
        "                ('relu1', nn.ReLU(inplace=True)),\n",
        "                ('conv2', nn.Conv2d(64, 64, 3, stride=1, padding=1,\n",
        "                                    bias=False)),\n",
        "                ('bn2', nn.BatchNorm2d(64)),\n",
        "                ('relu2', nn.ReLU(inplace=True)),\n",
        "                ('conv3', nn.Conv2d(64, inplanes, 3, stride=1, padding=1,\n",
        "                                    bias=False)),\n",
        "                ('bn3', nn.BatchNorm2d(inplanes)),\n",
        "                ('relu3', nn.ReLU(inplace=True)),\n",
        "            ]\n",
        "        else:\n",
        "            layer0_modules = [\n",
        "                ('conv1', nn.Conv2d(3, inplanes, kernel_size=7, stride=2,\n",
        "                                    padding=3, bias=False)),\n",
        "                ('bn1', nn.BatchNorm2d(inplanes)),\n",
        "                ('relu1', nn.ReLU(inplace=True)),\n",
        "            ]\n",
        "        # To preserve compatibility with Caffe weights `ceil_mode=True`\n",
        "        # is used instead of `padding=1`.\n",
        "        layer0_modules.append(('pool', nn.MaxPool2d(3, stride=2,\n",
        "                                                    ceil_mode=True)))\n",
        "        self.layer0 = nn.Sequential(OrderedDict(layer0_modules))\n",
        "        self.layer1 = self._make_layer(\n",
        "            block,\n",
        "            planes=64,\n",
        "            blocks=layers[0],\n",
        "            groups=groups,\n",
        "            reduction=reduction,\n",
        "            downsample_kernel_size=1,\n",
        "            downsample_padding=0\n",
        "        )\n",
        "        self.layer2 = self._make_layer(\n",
        "            block,\n",
        "            planes=128,\n",
        "            blocks=layers[1],\n",
        "            stride=2,\n",
        "            groups=groups,\n",
        "            reduction=reduction,\n",
        "            downsample_kernel_size=downsample_kernel_size,\n",
        "            downsample_padding=downsample_padding\n",
        "        )\n",
        "        self.layer3 = self._make_layer(\n",
        "            block,\n",
        "            planes=256,\n",
        "            blocks=layers[2],\n",
        "            stride=2,\n",
        "            groups=groups,\n",
        "            reduction=reduction,\n",
        "            downsample_kernel_size=downsample_kernel_size,\n",
        "            downsample_padding=downsample_padding\n",
        "        )\n",
        "        self.layer4 = self._make_layer(\n",
        "            block,\n",
        "            planes=512,\n",
        "            blocks=layers[3],\n",
        "            stride=2,\n",
        "            groups=groups,\n",
        "            reduction=reduction,\n",
        "            downsample_kernel_size=downsample_kernel_size,\n",
        "            downsample_padding=downsample_padding\n",
        "        )\n",
        "        self.avg_pool = nn.AvgPool2d(7, stride=1)\n",
        "        self.dropout = nn.Dropout(dropout_p) if dropout_p is not None else None\n",
        "        self.last_linear = nn.Linear(512 * block.expansion, num_classes)\n",
        "\n",
        "    def _make_layer(self, block, planes, blocks, groups, reduction, stride=1,\n",
        "                    downsample_kernel_size=1, downsample_padding=0):\n",
        "        downsample = None\n",
        "        if stride != 1 or self.inplanes != planes * block.expansion:\n",
        "            downsample = nn.Sequential(\n",
        "                nn.Conv2d(self.inplanes, planes * block.expansion,\n",
        "                          kernel_size=downsample_kernel_size, stride=stride,\n",
        "                          padding=downsample_padding, bias=False),\n",
        "                nn.BatchNorm2d(planes * block.expansion),\n",
        "            )\n",
        "\n",
        "        layers = []\n",
        "        layers.append(block(self.inplanes, planes, groups, reduction, stride,\n",
        "                            downsample))\n",
        "        self.inplanes = planes * block.expansion\n",
        "        for i in range(1, blocks):\n",
        "            layers.append(block(self.inplanes, planes, groups, reduction))\n",
        "\n",
        "        return nn.Sequential(*layers)\n",
        "\n",
        "    def features(self, x):\n",
        "        x = self.layer0(x)\n",
        "        x = self.layer1(x)\n",
        "        x = self.layer2(x)\n",
        "        x = self.layer3(x)\n",
        "        x = self.layer4(x)\n",
        "        return x\n",
        "\n",
        "    def logits(self, x):\n",
        "        x = self.avg_pool(x)\n",
        "        if self.dropout is not None:\n",
        "            x = self.dropout(x)\n",
        "        x = x.view(x.size(0), -1)\n",
        "        x = self.last_linear(x)\n",
        "        return x\n",
        "\n",
        "    def forward(self, x):\n",
        "        x = self.features(x)\n",
        "        x = self.logits(x)\n",
        "        return x\n",
        "\n",
        "\n",
        "def initialize_pretrained_model(model, num_classes, settings):\n",
        "    assert num_classes == settings['num_classes'], \\\n",
        "        'num_classes should be {}, but is {}'.format(\n",
        "            settings['num_classes'], num_classes)\n",
        "    model.load_state_dict(model_zoo.load_url(settings['url']))\n",
        "    model.input_space = settings['input_space']\n",
        "    model.input_size = settings['input_size']\n",
        "    model.input_range = settings['input_range']\n",
        "    model.mean = settings['mean']\n",
        "    model.std = settings['std']\n",
        "\n",
        "\n",
        "def se_resnext50_32x4d(num_classes=1000, pretrained='imagenet'):\n",
        "    model = SENet(SEResNeXtBottleneck, [3, 4, 6, 3], groups=32, reduction=16,\n",
        "                  dropout_p=None, inplanes=64, input_3x3=False,\n",
        "                  downsample_kernel_size=1, downsample_padding=0,\n",
        "                  num_classes=num_classes)\n",
        "    if pretrained is not None:\n",
        "        settings = config.pretrained_settings['se_resnext50_32x4d'][pretrained]\n",
        "        initialize_pretrained_model(model, num_classes, settings)\n",
        "    return model\n",
        "\n",
        "\n",
        "def se_resnext101_32x4d(num_classes=1000, pretrained='imagenet'):\n",
        "    model = SENet(SEResNeXtBottleneck, [3, 4, 23, 3], groups=32, reduction=16,\n",
        "                  dropout_p=None, inplanes=64, input_3x3=False,\n",
        "                  downsample_kernel_size=1, downsample_padding=0,\n",
        "                  num_classes=num_classes)\n",
        "    if pretrained is not None:\n",
        "        settings = config.pretrained_settings['se_resnext101_32x4d'][pretrained]\n",
        "        initialize_pretrained_model(model, num_classes, settings)\n",
        "    return model"
      ],
      "execution_count": 0,
      "outputs": []
    },
    {
      "cell_type": "code",
      "metadata": {
        "id": "rZ8sYA8A_PMv",
        "colab_type": "code",
        "colab": {}
      },
      "source": [
        "class CustomSEResNeXt(nn.Module):\n",
        "\n",
        "    def __init__(self, model_name='se_resnext50_32x4d'):\n",
        "        assert model_name in ('se_resnext50_32x4d')\n",
        "        super().__init__()\n",
        "        \n",
        "        self.model = se_resnext50_32x4d(pretrained=None)\n",
        "        self.model.avg_pool = nn.AdaptiveAvgPool2d(1)\n",
        "        self.model.last_linear = nn.Linear(self.model.last_linear.in_features, 1)\n",
        "        \n",
        "    def forward(self, x):\n",
        "        x = self.model(x)\n",
        "        return x"
      ],
      "execution_count": 0,
      "outputs": []
    },
    {
      "cell_type": "code",
      "metadata": {
        "trusted": true,
        "id": "8_0_7HFqDkVJ",
        "colab_type": "code",
        "colab": {}
      },
      "source": [
        "model = CustomSEResNeXt(model_name='se_resnext50_32x4d')\n",
        "_ = model.to(device)\n",
        "optimizer = torch.optim.Adam(model.parameters(), lr=0.0001, weight_decay=0.) # traditional lr\n",
        "scheduler = torch.optim.lr_scheduler.ReduceLROnPlateau(optimizer, factor=0.2, patience=2, verbose=1)"
      ],
      "execution_count": 0,
      "outputs": []
    },
    {
      "cell_type": "code",
      "metadata": {
        "id": "rIJteLiBARpx",
        "colab_type": "code",
        "colab": {}
      },
      "source": [
        "# test model\n",
        "if DEBUG:\n",
        "    x = torch.randn(2, 3, 512, 512)\n",
        "    x = x.to(device, dtype=torch.float32)\n",
        "    y = model(x)\n",
        "    print(y.shape)"
      ],
      "execution_count": 0,
      "outputs": []
    },
    {
      "cell_type": "markdown",
      "metadata": {
        "id": "flVHjS04DkVL",
        "colab_type": "text"
      },
      "source": [
        "# Training"
      ]
    },
    {
      "cell_type": "code",
      "metadata": {
        "id": "tXXis0scH73X",
        "colab_type": "code",
        "colab": {}
      },
      "source": [
        "class OptimizedRounder():\n",
        "    def __init__(self):\n",
        "        self.coef_ = [0.5, 1.5, 2.5, 3.5, 4.5]\n",
        "\n",
        "    def _kappa_loss(self, coef, X, y):\n",
        "        X_p = np.copy(X)\n",
        "        for i, pred in enumerate(X_p):\n",
        "            if pred < coef[0]:\n",
        "                X_p[i] = 0\n",
        "            elif pred >= coef[0] and pred < coef[1]:\n",
        "                X_p[i] = 1\n",
        "            elif pred >= coef[1] and pred < coef[2]:\n",
        "                X_p[i] = 2\n",
        "            elif pred >= coef[2] and pred < coef[3]:\n",
        "                X_p[i] = 3\n",
        "            elif pred >= coef[3] and pred < coef[4]:\n",
        "                X_p[i] = 4\n",
        "            else:\n",
        "                X_p[i] = 5\n",
        "\n",
        "        ll = cohen_kappa_score(y, X_p, weights='quadratic')\n",
        "\n",
        "        return -ll\n",
        "\n",
        "    def fit(self, X, y):\n",
        "        loss_partial = partial(self._kappa_loss, X=X, y=y)\n",
        "        initial_coef = [0.5, 1.5, 2.5, 3.5, 4.5]\n",
        "        self.coef_ = sp.optimize.minimize(loss_partial, initial_coef, method='nelder-mead')\n",
        "\n",
        "    def predict(self, X, coef=[0.5, 1.5, 2.5, 3.5, 4.5]):\n",
        "        X_p = np.copy(X)\n",
        "        for i, pred in enumerate(X_p):\n",
        "            if pred < coef[0]:\n",
        "                X_p[i] = 0\n",
        "            elif pred >= coef[0] and pred < coef[1]:\n",
        "                X_p[i] = 1\n",
        "            elif pred >= coef[1] and pred < coef[2]:\n",
        "                X_p[i] = 2\n",
        "            elif pred >= coef[2] and pred < coef[3]:\n",
        "                X_p[i] = 3\n",
        "            elif pred >= coef[3] and pred < coef[4]:\n",
        "                X_p[i] = 4\n",
        "            else:\n",
        "                X_p[i] = 5\n",
        "        return X_p\n",
        "\n",
        "    def coefficients(self):\n",
        "        '''use after self.fit or error throws'''\n",
        "        return self.coef_['x']"
      ],
      "execution_count": 0,
      "outputs": []
    },
    {
      "cell_type": "code",
      "metadata": {
        "id": "ii0mUsTbIBfU",
        "colab_type": "code",
        "colab": {}
      },
      "source": [
        "rounder = OptimizedRounder()"
      ],
      "execution_count": 0,
      "outputs": []
    },
    {
      "cell_type": "code",
      "metadata": {
        "_uuid": "d629ff2d2480ee46fbb7e2d37f6b5fab8052498a",
        "_cell_guid": "79c7e3d0-c299-4dcb-8224-4455121ee9b0",
        "trusted": true,
        "id": "ttCyx3-lDkVN",
        "colab_type": "code",
        "colab": {}
      },
      "source": [
        "def train_on(epoch):\n",
        "    \n",
        "    torch.cuda.empty_cache()\n",
        "    gc.collect()\n",
        "    \n",
        "    model.train()\n",
        "    \n",
        "    loss_epoch = []\n",
        "    preds_epoch = []\n",
        "    y_epoch = []\n",
        "    bar = tqdm(enumerate(train_dl), total=len(train_dl))\n",
        "    for i, (x, y) in bar:\n",
        "        x = x.to(device, dtype=torch.float32)\n",
        "        y = y.to(device, dtype=torch.float32)\n",
        "\n",
        "        y_preds = model(x) # [batch, 1]\n",
        "        y_preds = y_preds.view(-1) #[batch,]\n",
        "        \n",
        "        # get metrics\n",
        "        loss = nn.MSELoss()(y_preds, y)\n",
        "\n",
        "        # update\n",
        "        optimizer.zero_grad()\n",
        "        loss.backward()\n",
        "        optimizer.step()\n",
        "\n",
        "        # add\n",
        "        y_np = y.cpu().detach().numpy()\n",
        "        y_preds_np = rounder.predict(y_preds.cpu().detach().numpy())\n",
        "        loss_np = loss.cpu().detach().numpy()\n",
        "        \n",
        "        # add\n",
        "        preds_epoch.append(y_preds_np)\n",
        "        y_epoch.append(y_np)\n",
        "        loss_epoch.append(loss_np)\n",
        "    \n",
        "        \n",
        "        c = cohen_kappa_score(y_np, y_preds_np, weights='quadratic')\n",
        "        bar.set_description('loss: %.4f, cohen: %.4f' % (loss_np, c))\n",
        "        \n",
        "            \n",
        "        # clean\n",
        "        del x, y, y_preds, loss, y_np, y_preds_np, loss_np\n",
        "        torch.cuda.empty_cache()\n",
        "        gc.collect()\n",
        "        \n",
        "        \n",
        "    cohen = cohen_kappa_score(np.concatenate(preds_epoch), \n",
        "                              np.concatenate(y_epoch), \n",
        "                              weights='quadratic')\n",
        "    \n",
        "    print('Epoch: %d, Loss: %.4f, Cohen: %.4f' % (epoch, np.mean(loss_epoch), cohen))\n",
        "    return np.mean(loss_epoch), cohen\n"
      ],
      "execution_count": 0,
      "outputs": []
    },
    {
      "cell_type": "code",
      "metadata": {
        "id": "mY5QlsqrA10H",
        "colab_type": "code",
        "outputId": "c847c34b-4553-4e3a-b53b-447dd44b4892",
        "colab": {
          "base_uri": "https://localhost:8080/",
          "height": 34
        }
      },
      "source": [
        "torch.cuda.empty_cache()\n",
        "gc.collect()"
      ],
      "execution_count": 90,
      "outputs": [
        {
          "output_type": "execute_result",
          "data": {
            "text/plain": [
              "0"
            ]
          },
          "metadata": {
            "tags": []
          },
          "execution_count": 90
        }
      ]
    },
    {
      "cell_type": "code",
      "metadata": {
        "id": "_KsRLlR5AEX5",
        "colab_type": "code",
        "colab": {}
      },
      "source": [
        "if DEBUG:\n",
        "    train_on(1)"
      ],
      "execution_count": 0,
      "outputs": []
    },
    {
      "cell_type": "code",
      "metadata": {
        "trusted": true,
        "id": "ba62o7sHDkVP",
        "colab_type": "code",
        "colab": {}
      },
      "source": [
        "def val_on(epoch, dl):\n",
        "\n",
        "    torch.cuda.empty_cache()\n",
        "    gc.collect()\n",
        "    \n",
        "    model.eval()\n",
        "    \n",
        "    loss_epoch = []\n",
        "    preds_epoch = []\n",
        "    y_epoch = []\n",
        "    bar = tqdm(enumerate(dl), total=len(dl))\n",
        "    with torch.no_grad():\n",
        "        for i, (x, y) in bar:\n",
        "            x = x.to(device, dtype=torch.float32)\n",
        "            y = y.to(device, dtype=torch.float32)\n",
        "            \n",
        "            y_preds = model(x).view(-1)\n",
        "\n",
        "            # get metrics\n",
        "            loss = nn.MSELoss()(y_preds, y)\n",
        "\n",
        "            # add\n",
        "            y_preds_np = y_preds.cpu().detach().numpy()\n",
        "            y_np = y.cpu().detach().numpy()\n",
        "            loss_np = loss.cpu().detach().numpy()\n",
        "            \n",
        "            loss_epoch.append(loss_np)\n",
        "            preds_epoch.append(y_preds_np)\n",
        "            y_epoch.append(y_np)\n",
        "            \n",
        "            \n",
        "            # get cohen\n",
        "            c = cohen_kappa_score(rounder.predict(y_preds_np), y_np, weights='quadratic')\n",
        "            bar.set_description('loss: %.4f, cohen: %.4f' % (loss_np, c))\n",
        "\n",
        "        \n",
        "            # clean\n",
        "            del x, y, y_preds, loss, y_np, y_preds_np, loss_np, c\n",
        "            torch.cuda.empty_cache()\n",
        "            gc.collect()\n",
        "            \n",
        "\n",
        "    # cohen\n",
        "    preds_epoch = np.concatenate(preds_epoch)\n",
        "    y_epoch = np.concatenate(y_epoch)\n",
        "    \n",
        "    rounder.fit(preds_epoch, y_epoch)\n",
        "    coef = rounder.coefficients()\n",
        "    preds_epoch = rounder.predict(preds_epoch, coef)\n",
        "    cohen = cohen_kappa_score(preds_epoch, y_epoch, weights='quadratic')\n",
        "    \n",
        "    print('Epoch: %d, Loss: %.4f, Cohen: %.4f' % (epoch, np.mean(loss_epoch), cohen))\n",
        "\n",
        "    return np.mean(loss_epoch), cohen, coef\n",
        "        \n",
        "            "
      ],
      "execution_count": 0,
      "outputs": []
    },
    {
      "cell_type": "code",
      "metadata": {
        "id": "AfdBV1DiIPIQ",
        "colab_type": "code",
        "colab": {}
      },
      "source": [
        "if DEBUG:\n",
        "    val_on(1, val_dl)"
      ],
      "execution_count": 0,
      "outputs": []
    },
    {
      "cell_type": "code",
      "metadata": {
        "trusted": true,
        "id": "hfojo4UJDkVQ",
        "colab_type": "code",
        "colab": {}
      },
      "source": [
        "def train(epochs):\n",
        "    best_cohen = []\n",
        "    for e in range(epochs):\n",
        "        train_loss, train_cohen = train_on(e)\n",
        "        val_loss, val_cohen, coef = val_on(e, val_dl)\n",
        "        \n",
        "        # adjust lr\n",
        "        scheduler.step(val_loss)\n",
        "\n",
        "        # write to log\n",
        "        with open(config.LOG, 'a') as f:\n",
        "            f.write(time.ctime() + f' Epoch: {e}, Train loss: {(train_loss):.4f}, Train cohen: {(train_cohen):.4f}\\n   Val loss: {(val_loss):.4f}, Val cohen:{(val_cohen):.4f}, Coef: {coef} \\n\\n')\n",
        "            \n",
        "        # save best\n",
        "        best_cohen.append(val_cohen)\n",
        "        if val_cohen >= max(best_cohen):\n",
        "            print('save best model')\n",
        "            torch.save(model.state_dict(), f'seresnetxt-best.pth')\n",
        "            \n",
        "    torch.save(model.state_dict(), './final.pth')"
      ],
      "execution_count": 0,
      "outputs": []
    },
    {
      "cell_type": "code",
      "metadata": {
        "trusted": true,
        "id": "oARU2BqcDkVT",
        "colab_type": "code",
        "outputId": "96d774ae-4dd8-42c2-99bd-60adc0cd26d2",
        "colab": {
          "base_uri": "https://localhost:8080/",
          "height": 34
        }
      },
      "source": [
        "torch.cuda.empty_cache()\n",
        "gc.collect()"
      ],
      "execution_count": 95,
      "outputs": [
        {
          "output_type": "execute_result",
          "data": {
            "text/plain": [
              "456"
            ]
          },
          "metadata": {
            "tags": []
          },
          "execution_count": 95
        }
      ]
    },
    {
      "cell_type": "code",
      "metadata": {
        "trusted": true,
        "id": "mW5Yj3aHDkVV",
        "colab_type": "code",
        "outputId": "9f677285-3d3d-4e35-b4ae-c94b070bf2cc",
        "colab": {
          "base_uri": "https://localhost:8080/",
          "height": 49,
          "referenced_widgets": [
            "3606a40447134a4883b6082f06c78f57",
            "14b6aa70d4ef48e185d4b53e1da22f65",
            "571e607787d243da858f95e0f41af709",
            "508d5322f68d4ead9cbce446bd452174",
            "c2f74061ed754ffabeec0ff448aaa454",
            "da934b8baf50452f9a0199ec16b59fcc",
            "8632a7daf28547519b56bc0ce5a94284",
            "70f8d8e44ecf41ddbe2023e4e07bda94"
          ]
        }
      },
      "source": [
        "train(3)"
      ],
      "execution_count": 0,
      "outputs": [
        {
          "output_type": "display_data",
          "data": {
            "application/vnd.jupyter.widget-view+json": {
              "model_id": "3606a40447134a4883b6082f06c78f57",
              "version_minor": 0,
              "version_major": 2
            },
            "text/plain": [
              "HBox(children=(FloatProgress(value=0.0, max=2323.0), HTML(value='')))"
            ]
          },
          "metadata": {
            "tags": []
          }
        }
      ]
    },
    {
      "cell_type": "code",
      "metadata": {
        "trusted": true,
        "id": "gldkW80LDkVZ",
        "colab_type": "code",
        "colab": {}
      },
      "source": [
        "from IPython.display import FileLink\n",
        "FileLink('./seresnetxt.pth')"
      ],
      "execution_count": 0,
      "outputs": []
    }
  ]
}