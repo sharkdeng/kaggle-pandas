{
 "cells": [
  {
   "cell_type": "code",
   "execution_count": 1,
   "metadata": {
    "_cell_guid": "b1076dfc-b9ad-4769-8c92-a6c4dae69d19",
    "_uuid": "8f2839f25d086af736a60e9eeb907d3b93b6e0e5"
   },
   "outputs": [],
   "source": [
    "import numpy as np\n",
    "import pandas as pd\n",
    "import os, random, glob, cv2, gc\n",
    "from PIL import Image\n",
    "from tqdm.notebook import tqdm\n",
    "import matplotlib.pyplot as plt\n",
    "from termcolor import colored\n",
    "\n",
    "from sklearn.utils import shuffle\n",
    "from sklearn.metrics import accuracy_score\n",
    "from sklearn.metrics import cohen_kappa_score\n",
    "from sklearn.model_selection import train_test_split\n",
    "\n",
    "import torch \n",
    "import torch.nn as nn\n",
    "import torch.nn.functional as F\n",
    "from torch.utils.data import Dataset, DataLoader\n",
    "\n",
    "from albumentations import Compose, Normalize, HorizontalFlip, VerticalFlip, RandomSizedCrop"
   ]
  },
  {
   "cell_type": "code",
   "execution_count": 2,
   "metadata": {},
   "outputs": [
    {
     "data": {
      "text/plain": [
       "device(type='cpu')"
      ]
     },
     "execution_count": 2,
     "metadata": {},
     "output_type": "execute_result"
    }
   ],
   "source": [
    "device = torch.device('cuda') if torch.cuda.is_available() else torch.device('cpu')\n",
    "device"
   ]
  },
  {
   "cell_type": "markdown",
   "metadata": {},
   "source": [
    "# Data"
   ]
  },
  {
   "cell_type": "code",
   "execution_count": 3,
   "metadata": {},
   "outputs": [],
   "source": [
    "df = pd.read_csv('train.csv').set_index('image_id')"
   ]
  },
  {
   "cell_type": "code",
   "execution_count": 4,
   "metadata": {},
   "outputs": [
    {
     "name": "stdout",
     "output_type": "stream",
     "text": [
      "8492 1699 425\n"
     ]
    }
   ],
   "source": [
    "# shuffle\n",
    "df = shuffle(df)\n",
    "\n",
    "\n",
    "# split\n",
    "train_df, val_df = train_test_split(df, test_size=0.2)\n",
    "val_df, test_df = train_test_split(val_df, test_size=0.2)\n",
    "\n",
    "train_df = train_df.reset_index()\n",
    "val_df = val_df.reset_index()\n",
    "test_df = test_df.reset_index()\n",
    "\n",
    "print(len(train_df), len(val_df), len(test_df))"
   ]
  },
  {
   "cell_type": "code",
   "execution_count": 5,
   "metadata": {},
   "outputs": [
    {
     "data": {
      "text/html": [
       "<div>\n",
       "<style scoped>\n",
       "    .dataframe tbody tr th:only-of-type {\n",
       "        vertical-align: middle;\n",
       "    }\n",
       "\n",
       "    .dataframe tbody tr th {\n",
       "        vertical-align: top;\n",
       "    }\n",
       "\n",
       "    .dataframe thead th {\n",
       "        text-align: right;\n",
       "    }\n",
       "</style>\n",
       "<table border=\"1\" class=\"dataframe\">\n",
       "  <thead>\n",
       "    <tr style=\"text-align: right;\">\n",
       "      <th></th>\n",
       "      <th>image_id</th>\n",
       "      <th>data_provider</th>\n",
       "      <th>isup_grade</th>\n",
       "      <th>gleason_score</th>\n",
       "    </tr>\n",
       "  </thead>\n",
       "  <tbody>\n",
       "    <tr>\n",
       "      <td>0</td>\n",
       "      <td>0cbfd6b7a0e0e936db19b032096621ad</td>\n",
       "      <td>radboud</td>\n",
       "      <td>4</td>\n",
       "      <td>4+4</td>\n",
       "    </tr>\n",
       "    <tr>\n",
       "      <td>1</td>\n",
       "      <td>50e4e960102369eb7b271d3afe227ef7</td>\n",
       "      <td>karolinska</td>\n",
       "      <td>2</td>\n",
       "      <td>3+4</td>\n",
       "    </tr>\n",
       "    <tr>\n",
       "      <td>2</td>\n",
       "      <td>d341e19a76135d79774f19f5e9ecc5a9</td>\n",
       "      <td>radboud</td>\n",
       "      <td>2</td>\n",
       "      <td>3+4</td>\n",
       "    </tr>\n",
       "    <tr>\n",
       "      <td>3</td>\n",
       "      <td>a740ac5e9722a89dd2c7afe87b92104a</td>\n",
       "      <td>radboud</td>\n",
       "      <td>0</td>\n",
       "      <td>negative</td>\n",
       "    </tr>\n",
       "    <tr>\n",
       "      <td>4</td>\n",
       "      <td>8a2e377920bb4f87e746d837d6ff0f40</td>\n",
       "      <td>karolinska</td>\n",
       "      <td>0</td>\n",
       "      <td>0+0</td>\n",
       "    </tr>\n",
       "  </tbody>\n",
       "</table>\n",
       "</div>"
      ],
      "text/plain": [
       "                           image_id data_provider  isup_grade gleason_score\n",
       "0  0cbfd6b7a0e0e936db19b032096621ad       radboud           4           4+4\n",
       "1  50e4e960102369eb7b271d3afe227ef7    karolinska           2           3+4\n",
       "2  d341e19a76135d79774f19f5e9ecc5a9       radboud           2           3+4\n",
       "3  a740ac5e9722a89dd2c7afe87b92104a       radboud           0      negative\n",
       "4  8a2e377920bb4f87e746d837d6ff0f40    karolinska           0           0+0"
      ]
     },
     "execution_count": 5,
     "metadata": {},
     "output_type": "execute_result"
    }
   ],
   "source": [
    "train_df.head()"
   ]
  },
  {
   "cell_type": "markdown",
   "metadata": {},
   "source": [
    "# Augmentation"
   ]
  },
  {
   "cell_type": "code",
   "execution_count": 6,
   "metadata": {},
   "outputs": [],
   "source": [
    "mean = [1-0.90949707, 1-0.8188697, 1-0.87795304]\n",
    "std = [0.36357649, 0.49984502, 0.40477625]\n",
    "train_transforms = Compose([HorizontalFlip(p=0.5), \n",
    "                            VerticalFlip(p=0.5),\n",
    "                            Normalize(mean, std)])\n",
    "val_transforms = Compose([Normalize(mean, std)])"
   ]
  },
  {
   "cell_type": "markdown",
   "metadata": {},
   "source": [
    "# Dataset"
   ]
  },
  {
   "cell_type": "code",
   "execution_count": 8,
   "metadata": {},
   "outputs": [],
   "source": [
    "class MyDataset(Dataset):\n",
    "    def __init__(self, df, split='train'):\n",
    "        super().__init__()\n",
    "        self.dir = './pandatiled/'\n",
    "        self.df = df\n",
    "        self.split = split\n",
    "        \n",
    "    def __len__(self):\n",
    "        return len(self.df)\n",
    "    \n",
    "    def __getitem__(self, idx):\n",
    "        name = self.df.image_id[idx]\n",
    "        path = os.path.join(self.dir, name+'.png')\n",
    "        img = cv2.imread(path)\n",
    "        img = cv2.cvtColor(img, cv2.COLOR_BGR2RGB)\n",
    "        if self.split == 'train':\n",
    "            img = train_transforms(**{'image': img})['image']\n",
    "        elif self.split == 'val':\n",
    "            img = val_transforms(**{'image': img})['image']\n",
    "        img = torch.tensor(img).permute(2, 0, 1)\n",
    "        \n",
    "        label = torch.tensor(self.df.isup_grade[idx])\n",
    "        return img, label\n",
    "        "
   ]
  },
  {
   "cell_type": "code",
   "execution_count": 9,
   "metadata": {},
   "outputs": [
    {
     "name": "stderr",
     "output_type": "stream",
     "text": [
      "Clipping input data to the valid range for imshow with RGB data ([0..1] for floats or [0..255] for integers).\n"
     ]
    },
    {
     "name": "stdout",
     "output_type": "stream",
     "text": [
      "torch.Size([3, 512, 512])\n"
     ]
    },
    {
     "data": {
      "text/plain": [
       "Text(0.5, 1.0, 'tensor(2)')"
      ]
     },
     "execution_count": 9,
     "metadata": {},
     "output_type": "execute_result"
    },
    {
     "data": {
      "image/png": "[encoded data removed]",
      "text/plain": [
       "<Figure size 432x288 with 1 Axes>"
      ]
     },
     "metadata": {
      "needs_background": "light"
     },
     "output_type": "display_data"
    }
   ],
   "source": [
    "# test dataset\n",
    "train_ds = MyDataset(train_df, 'train')\n",
    "x, y = train_ds[2]\n",
    "print(x.shape)\n",
    "plt.imshow(x.permute(1, 2, 0).numpy())\n",
    "plt.title(y)"
   ]
  },
  {
   "cell_type": "code",
   "execution_count": 11,
   "metadata": {},
   "outputs": [],
   "source": [
    "train_ds = MyDataset(train_df, 'train')\n",
    "train_dl = DataLoader(train_ds, batch_size=12, shuffle=True) # use 32 means 2 images per batch, don't shuffle to preserve \n",
    "\n",
    "val_ds = MyDataset(val_df, 'val')\n",
    "val_dl = DataLoader(val_ds, batch_size=12, shuffle=True)\n",
    "\n",
    "test_ds = MyDataset(test_df, 'val')\n",
    "test_dl = DataLoader(test_ds, batch_size=12, shuffle=True)"
   ]
  },
  {
   "cell_type": "code",
   "execution_count": 12,
   "metadata": {},
   "outputs": [
    {
     "name": "stderr",
     "output_type": "stream",
     "text": [
      "Clipping input data to the valid range for imshow with RGB data ([0..1] for floats or [0..255] for integers).\n"
     ]
    },
    {
     "data": {
      "text/plain": [
       "Text(0.5, 1.0, 'tensor(0)')"
      ]
     },
     "execution_count": 12,
     "metadata": {},
     "output_type": "execute_result"
    },
    {
     "data": {
      "image/png": "[encoded data removed]",
      "text/plain": [
       "<Figure size 432x288 with 1 Axes>"
      ]
     },
     "metadata": {
      "needs_background": "light"
     },
     "output_type": "display_data"
    }
   ],
   "source": [
    "# test dl\n",
    "x, y = next(iter(train_dl))\n",
    "plt.imshow(x[0].permute(1, 2, 0).numpy())\n",
    "plt.title(y[0])"
   ]
  },
  {
   "cell_type": "markdown",
   "metadata": {},
   "source": [
    "# Model"
   ]
  },
  {
   "cell_type": "code",
   "execution_count": 13,
   "metadata": {},
   "outputs": [],
   "source": [
    "# !pip install efficientnet-pytorch -q"
   ]
  },
  {
   "cell_type": "code",
   "execution_count": 15,
   "metadata": {},
   "outputs": [],
   "source": [
    "from efficientnet_pytorch import EfficientNet\n",
    "\n",
    "class MyModel(nn.Module):\n",
    "    def __init__(self):\n",
    "        super().__init__()\n",
    "        self.base = EfficientNet.from_pretrained('efficientnet-b4')\n",
    "        self.fc = nn.Linear(self.base._fc.out_features, 6)\n",
    "        \n",
    "    def forward(self, x):\n",
    "        x = self.base(x)\n",
    "        x = self.fc(x)\n",
    "        x = nn.Softmax(dim=1)(x)\n",
    "        \n",
    "        return x"
   ]
  },
  {
   "cell_type": "code",
   "execution_count": 17,
   "metadata": {},
   "outputs": [
    {
     "name": "stdout",
     "output_type": "stream",
     "text": [
      "Loaded pretrained weights for efficientnet-b4\n"
     ]
    }
   ],
   "source": [
    "model = MyModel()\n",
    "_ = model.to(device)\n",
    "model.load_state_dict(torch.load('efn-3.pth', map_location=device))\n",
    "optimizer = torch.optim.Adam(model.parameters(), lr=0.0001, weight_decay=0.) # traditional lr\n",
    "scheduler = torch.optim.lr_scheduler.ReduceLROnPlateau(optimizer, factor=0.2, patience=2, verbose=1)"
   ]
  },
  {
   "cell_type": "markdown",
   "metadata": {},
   "source": [
    "# Training"
   ]
  },
  {
   "cell_type": "code",
   "execution_count": 18,
   "metadata": {
    "_cell_guid": "79c7e3d0-c299-4dcb-8224-4455121ee9b0",
    "_uuid": "d629ff2d2480ee46fbb7e2d37f6b5fab8052498a"
   },
   "outputs": [],
   "source": [
    "cohen_prev = np.ones(len(train_dl)) + 1\n",
    "\n",
    "def train_on(epoch):\n",
    "    # \n",
    "    torch.cuda.empty_cache()\n",
    "    gc.collect()\n",
    "    \n",
    "    model.train(True)\n",
    "    \n",
    "    loss_epoch = []\n",
    "    acc_epoch = []\n",
    "    cohen_epoch = []\n",
    "    for i, (x, y) in tqdm(enumerate(train_dl), total=len(train_dl)):\n",
    "        x = x.to(device)\n",
    "        y = y.to(device)\n",
    "        \n",
    "        y_preds = model(x)\n",
    "        \n",
    "        loss = nn.CrossEntropyLoss()(y_preds, y)\n",
    "#         loss = nn.MSELoss()(nn.Softmax()(y_preds).argmax(axis=1), y) # combine the log softmax and one-hot\n",
    "        acc = accuracy_score(y_preds.argmax(axis=1).cpu(), y.cpu())\n",
    "        cohen = cohen_kappa_score(y_preds.argmax(axis=1).cpu(), y.cpu(), weights='quadratic')\n",
    "        \n",
    "        optimizer.zero_grad()\n",
    "        loss.backward()\n",
    "        optimizer.step()\n",
    "        \n",
    "        # print\n",
    "#         if cohen_prev[i] == 2:\n",
    "#             print('Epoch: %d, Step: %d, Loss: %2f, Acc: %2f, Cohen: %2f' % (epoch, i, loss, acc, cohen))\n",
    "#         elif cohen > cohen_prev[i]:\n",
    "#             print(colored('Epoch: %d, Step: %d, Loss: %2f, Acc: %2f, Cohen: %2f' % (epoch, i, loss, acc, cohen), 'green'))\n",
    "#         elif cohen <= cohen_prev[i]:\n",
    "#             print(colored('Epoch: %d, Step: %d, Loss: %2f, Acc: %2f, Cohen: %2f' % (epoch, i, loss, acc, cohen), 'red'))\n",
    "#         cohen_prev[i] = cohen\n",
    "        \n",
    "        loss_epoch.append(loss.cpu().detach().numpy())\n",
    "        acc_epoch.append(acc)\n",
    "        cohen_epoch.append(cohen)\n",
    "        \n",
    "        del x, y, y_preds, loss\n",
    "        torch.cuda.empty_cache()\n",
    "        gc.collect()\n",
    "        \n",
    "    print(np.array(loss_epoch).mean(), np.array(acc_epoch).mean(), np.array(cohen_epoch).mean())\n",
    "    return np.array(loss_epoch).mean(), np.array(acc_epoch).mean(), np.array(cohen_epoch).mean()\n",
    "        "
   ]
  },
  {
   "cell_type": "code",
   "execution_count": 19,
   "metadata": {},
   "outputs": [],
   "source": [
    "cohen_val_prev = np.ones(len(val_dl)) + 1\n",
    "\n",
    "def val_on(epoch, dl):\n",
    "    # \n",
    "    torch.cuda.empty_cache()\n",
    "    gc.collect()\n",
    "    \n",
    "    model.eval()\n",
    "    \n",
    "    loss_epoch = []\n",
    "    acc_epoch = []\n",
    "    cohen_epoch = []\n",
    "    cohen = None\n",
    "    for i, (x, y) in tqdm(enumerate(dl), total=len(dl)):\n",
    "        with torch.no_grad():\n",
    "            x = x.to(device)\n",
    "            y = y.to(device)\n",
    "            \n",
    "            y_preds = model(x)\n",
    "\n",
    "            # get metrics\n",
    "            loss = nn.CrossEntropyLoss()(y_preds, y)\n",
    "            acc = accuracy_score(y_preds.argmax(axis=1).cpu().detach().numpy() , y.cpu().detach().numpy() )\n",
    "            cohen = cohen_kappa_score(y_preds.argmax(axis=1).cpu().detach().numpy() , y.cpu().detach().numpy() , weights='quadratic')\n",
    "\n",
    "            \n",
    "            # print\n",
    "#             if cohen_val_prev[i] == 2:\n",
    "#                 print('Epoch: %d, Step: %d, Loss: %2f, Acc: %2f, Cohen: %2f' % (epoch, i, loss, acc, cohen))\n",
    "#             elif cohen > cohen_val_prev[i]:\n",
    "#                 print(colored('Epoch: %d, Step: %d, Loss: %2f, Acc: %2f, Cohen: %2f' % (epoch, i, loss, acc, cohen), 'green'))\n",
    "#             elif cohen <= cohen_val_prev[i]:\n",
    "#                 print(colored('Epoch: %d, Step: %d, Loss: %2f, Acc: %2f, Cohen: %2f' % (epoch, i, loss, acc, cohen), 'red'))\n",
    "#             cohen_val_prev[i] = cohen\n",
    "        \n",
    "        \n",
    "            loss_epoch.append(loss.cpu().detach().numpy())\n",
    "            acc_epoch.append(acc)\n",
    "            cohen_epoch.append(cohen)\n",
    "        \n",
    "        \n",
    "            # clean\n",
    "            del x, y, y_preds, loss, acc, cohen\n",
    "            torch.cuda.empty_cache()\n",
    "            gc.collect()\n",
    "        \n",
    "    print(np.array(loss_epoch).mean(), np.array(acc_epoch).mean(), np.array(cohen_epoch).mean())\n",
    "    return np.array(loss_epoch).mean(), np.array(acc_epoch).mean(), np.array(cohen_epoch).mean()"
   ]
  },
  {
   "cell_type": "code",
   "execution_count": 20,
   "metadata": {},
   "outputs": [],
   "source": [
    "def train(epochs):\n",
    "    best_cohen = []\n",
    "    for e in range(epochs):\n",
    "        train_loss, train_acc, train_cohen = train_on(e)\n",
    "        val_loss, val_acc, val_cohen = val_on(e, val_dl)\n",
    "        \n",
    "        scheduler.step(val_loss)\n",
    "        \n",
    "        # save best\n",
    "        best_cohen.append(val_cohen)\n",
    "        if val_cohen >= max(best_cohen):\n",
    "            print('save best model')\n",
    "            torch.save(model.state_dict(), 'efn.pth')"
   ]
  },
  {
   "cell_type": "code",
   "execution_count": 24,
   "metadata": {},
   "outputs": [
    {
     "data": {
      "text/plain": [
       "20"
      ]
     },
     "execution_count": 24,
     "metadata": {},
     "output_type": "execute_result"
    }
   ],
   "source": [
    "torch.cuda.empty_cache()\n",
    "gc.collect()"
   ]
  },
  {
   "cell_type": "code",
   "execution_count": null,
   "metadata": {},
   "outputs": [
    {
     "data": {
      "application/vnd.jupyter.widget-view+json": {
       "model_id": "c2ff71f289eb4722a3d40aa1d69e034d",
       "version_major": 2,
       "version_minor": 0
      },
      "text/plain": [
       "HBox(children=(FloatProgress(value=0.0, max=708.0), HTML(value='')))"
      ]
     },
     "metadata": {},
     "output_type": "display_data"
    }
   ],
   "source": [
    "train(10)"
   ]
  },
  {
   "cell_type": "code",
   "execution_count": null,
   "metadata": {},
   "outputs": [],
   "source": [
    "val_on(1, test_dl)"
   ]
  },
  {
   "cell_type": "code",
   "execution_count": null,
   "metadata": {},
   "outputs": [],
   "source": [
    "!ls"
   ]
  },
  {
   "cell_type": "code",
   "execution_count": null,
   "metadata": {},
   "outputs": [],
   "source": [
    "torch.save(model.state_dict(), './efn.pth')"
   ]
  },
  {
   "cell_type": "code",
   "execution_count": null,
   "metadata": {},
   "outputs": [],
   "source": [
    "from IPython.display import FileLink\n",
    "FileLink('./efn.pth')"
   ]
  }
 ],
 "metadata": {
  "kernelspec": {
   "display_name": "Python 3",
   "language": "python",
   "name": "python3"
  },
  "language_info": {
   "codemirror_mode": {
    "name": "ipython",
    "version": 3
   },
   "file_extension": ".py",
   "mimetype": "text/x-python",
   "name": "python",
   "nbconvert_exporter": "python",
   "pygments_lexer": "ipython3",
   "version": "3.7.4"
  }
 },
 "nbformat": 4,
 "nbformat_minor": 4
}
