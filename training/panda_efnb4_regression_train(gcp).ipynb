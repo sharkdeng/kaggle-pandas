{
 "cells": [
  {
   "cell_type": "code",
   "execution_count": 109,
   "metadata": {
    "colab": {},
    "colab_type": "code",
    "id": "kN0i0aCAtspb"
   },
   "outputs": [],
   "source": [
    "# colab version\n",
    "\n",
    "# change train_test_split to 8 fold\n",
    "# change to my cropped dataset"
   ]
  },
  {
   "cell_type": "code",
   "execution_count": 1,
   "metadata": {
    "colab": {},
    "colab_type": "code",
    "id": "-yoHM3S8tIg_"
   },
   "outputs": [],
   "source": [
    "DEBUG = False"
   ]
  },
  {
   "cell_type": "code",
   "execution_count": 2,
   "metadata": {
    "_cell_guid": "b1076dfc-b9ad-4769-8c92-a6c4dae69d19",
    "_uuid": "8f2839f25d086af736a60e9eeb907d3b93b6e0e5",
    "colab": {},
    "colab_type": "code",
    "id": "2-yFBj-5MEmr"
   },
   "outputs": [],
   "source": [
    "import numpy as np\n",
    "import pandas as pd\n",
    "import os, random, glob, cv2, gc\n",
    "from PIL import Image\n",
    "from tqdm.notebook import tqdm\n",
    "import matplotlib.pyplot as plt\n",
    "from termcolor import colored\n",
    "import sys\n",
    "\n",
    "from sklearn.utils import shuffle\n",
    "from sklearn.metrics import accuracy_score\n",
    "from sklearn.metrics import cohen_kappa_score\n",
    "from sklearn.model_selection import train_test_split\n",
    "\n",
    "import torch \n",
    "import torch.nn as nn\n",
    "import torch.nn.functional as F\n",
    "from torch.utils.data import Dataset, DataLoader\n",
    "import torch.optim as optim\n",
    "\n",
    "import albumentations as A\n",
    "\n",
    "from functools import partial\n",
    "import scipy as sp\n",
    "\n",
    "from zipfile import ZipFile\n",
    "\n",
    "from PIL import Image, ImageChops\n",
    "import time\n",
    "\n",
    "\n",
    "import numpy as np\n",
    "import pandas as pd\n",
    "import skimage.io\n",
    "from tqdm.notebook import tqdm\n",
    "import glob\n",
    "import matplotlib.pyplot as plt\n",
    "import matplotlib.patches as patches\n",
    "from zipfile import ZipFile\n",
    "import cv2\n",
    "import albumentations as A\n",
    "import os"
   ]
  },
  {
   "cell_type": "code",
   "execution_count": 3,
   "metadata": {
    "colab": {},
    "colab_type": "code",
    "id": "teT-P-ZFt_tt"
   },
   "outputs": [],
   "source": [
    "Image.MAX_IMAGE_PIXELS = 933120000"
   ]
  },
  {
   "cell_type": "code",
   "execution_count": null,
   "metadata": {
    "colab": {},
    "colab_type": "code",
    "id": "S72sP1ZhuBMF"
   },
   "outputs": [],
   "source": [
    "!rm -rf /root/.kaggle\n",
    "!mkdir /root/.kaggle"
   ]
  },
  {
   "cell_type": "code",
   "execution_count": null,
   "metadata": {
    "colab": {},
    "colab_type": "code",
    "id": "oQoc8fBxuCiC"
   },
   "outputs": [],
   "source": [
    "!mv kaggle.json /root/.kaggle/kaggle.json\n",
    "!chmod 600 /root/.kaggle/kaggle.json"
   ]
  },
  {
   "cell_type": "code",
   "execution_count": 85,
   "metadata": {
    "colab": {
     "base_uri": "https://localhost:8080/",
     "height": 68
    },
    "colab_type": "code",
    "id": "a5SsiHg2uETC",
    "outputId": "1aa7f94d-1759-4257-d6b1-27bc8c3e7291"
   },
   "outputs": [
    {
     "name": "stdout",
     "output_type": "stream",
     "text": [
      "Downloading pandacroppedlevel11.zip to /home/jupyter\n",
      "100%|█████████████████████████████████████▉| 4.82G/4.84G [01:54<00:00, 72.7MB/s]\n",
      "100%|██████████████████████████████████████| 4.84G/4.84G [01:54<00:00, 45.2MB/s]\n"
     ]
    }
   ],
   "source": [
    "!kaggle datasets download muerbingsha/pandacroppedlevel11\n",
    "!kaggle datasets download muerbingsha/pandacroppedlevel12\n",
    "!kaggle datasets download muerbingsha/pandacroppedlevel13"
   ]
  },
  {
   "cell_type": "code",
   "execution_count": 4,
   "metadata": {
    "colab": {
     "base_uri": "https://localhost:8080/",
     "height": 34
    },
    "colab_type": "code",
    "id": "qbvKGcgPvzJO",
    "outputId": "14d6dde8-8f47-4ca7-f87f-64e16660a612"
   },
   "outputs": [
    {
     "name": "stdout",
     "output_type": "stream",
     "text": [
      "(5348, 5900) RGB 31553200\n"
     ]
    }
   ],
   "source": [
    "# test zip file\n",
    "myzip = ZipFile('pandacroppedlevel13.zip')\n",
    "files = myzip.infolist()\n",
    "f = myzip.open(files[1])\n",
    "img = Image.open(f)\n",
    "print(img.size, img.mode, len(img.getdata()))"
   ]
  },
  {
   "cell_type": "code",
   "execution_count": 5,
   "metadata": {
    "colab": {},
    "colab_type": "code",
    "id": "x6ejGLVetIhF"
   },
   "outputs": [],
   "source": [
    "class config:\n",
    "    SZ = 256    # not used, just to declare start point, \n",
    "    N = 36      # not used, just to declare start point, \n",
    "    LEVEL = 1   # not used, just to declare start point, \n",
    "    \n",
    "    IMG_SIZE = 1536\n",
    "    BS = 2\n",
    "    SEED = 2020\n",
    "    LR = 0.00001\n",
    "    LOG = './efnb1-log.txt'\n",
    "    \n",
    "GRAY_TR = 235\n",
    "N_TR = 0.85\n",
    "WHITE_TR = 0.95\n",
    "\n",
    "V = 1"
   ]
  },
  {
   "cell_type": "code",
   "execution_count": 6,
   "metadata": {
    "colab": {},
    "colab_type": "code",
    "id": "iLhTBmUxtIhJ"
   },
   "outputs": [],
   "source": [
    "# seed\n",
    "def seed_everything(seed=2020):\n",
    "    np.random.seed(seed)\n",
    "    random.seed(seed)\n",
    "    os.environ['PYTHONHASHSEED'] = str(seed)\n",
    "    torch.manual_seed(seed)\n",
    "    torch.cuda.manual_seed(seed)\n",
    "    torch.backends.cudnn.deterministic = True\n",
    "    torch.backends.cudnn.benchmark = True\n",
    "    \n",
    "seed_everything(config.SEED)\n"
   ]
  },
  {
   "cell_type": "code",
   "execution_count": 7,
   "metadata": {
    "colab": {
     "base_uri": "https://localhost:8080/",
     "height": 34
    },
    "colab_type": "code",
    "id": "x5VQKM5KMEmz",
    "outputId": "d2b773e6-db13-4c23-a1ea-45075af1c925"
   },
   "outputs": [
    {
     "data": {
      "text/plain": [
       "80"
      ]
     },
     "execution_count": 7,
     "metadata": {},
     "output_type": "execute_result"
    }
   ],
   "source": [
    "torch.cuda.empty_cache()\n",
    "gc.collect()"
   ]
  },
  {
   "cell_type": "code",
   "execution_count": 8,
   "metadata": {
    "colab": {
     "base_uri": "https://localhost:8080/",
     "height": 34
    },
    "colab_type": "code",
    "id": "686l5iiMMEm5",
    "outputId": "aafe0fdf-b38f-4b49-8bb8-da365b329a46"
   },
   "outputs": [
    {
     "data": {
      "text/plain": [
       "device(type='cuda')"
      ]
     },
     "execution_count": 8,
     "metadata": {},
     "output_type": "execute_result"
    }
   ],
   "source": [
    "device = torch.device('cuda') if torch.cuda.is_available() else torch.device('cpu')\n",
    "device"
   ]
  },
  {
   "cell_type": "markdown",
   "metadata": {
    "colab_type": "text",
    "id": "GudK3il7MEnB"
   },
   "source": [
    "# Data"
   ]
  },
  {
   "cell_type": "code",
   "execution_count": 9,
   "metadata": {
    "colab": {},
    "colab_type": "code",
    "id": "3epnwhh8MEnB"
   },
   "outputs": [],
   "source": [
    "df = pd.read_csv('train.csv')\n",
    "df = df.iloc[:1000] if DEBUG else df"
   ]
  },
  {
   "cell_type": "code",
   "execution_count": 10,
   "metadata": {
    "colab": {
     "base_uri": "https://localhost:8080/",
     "height": 34
    },
    "colab_type": "code",
    "id": "F0u0nqFXMEnE",
    "outputId": "5c06dc41-b33b-453a-c2ae-8278548c6473"
   },
   "outputs": [
    {
     "data": {
      "text/plain": [
       "(9289, 664, 663)"
      ]
     },
     "execution_count": 10,
     "metadata": {},
     "output_type": "execute_result"
    }
   ],
   "source": [
    "# shuffle\n",
    "df = shuffle(df)\n",
    "\n",
    "# split\n",
    "train_df = df[df.split != 0]\n",
    "val_df = df[df.split == 0]\n",
    "n = len(val_df) // 2\n",
    "test_df = val_df.iloc[:n]\n",
    "val_df = val_df.iloc[n:]\n",
    "\n",
    "\n",
    "len(train_df), len(val_df), len(test_df)"
   ]
  },
  {
   "cell_type": "code",
   "execution_count": 11,
   "metadata": {
    "colab": {
     "base_uri": "https://localhost:8080/",
     "height": 204
    },
    "colab_type": "code",
    "id": "fr6WJOOLMEnG",
    "outputId": "fecff265-fb30-47b1-fe32-b5babd203d35"
   },
   "outputs": [
    {
     "data": {
      "text/html": [
       "<div>\n",
       "<style scoped>\n",
       "    .dataframe tbody tr th:only-of-type {\n",
       "        vertical-align: middle;\n",
       "    }\n",
       "\n",
       "    .dataframe tbody tr th {\n",
       "        vertical-align: top;\n",
       "    }\n",
       "\n",
       "    .dataframe thead th {\n",
       "        text-align: right;\n",
       "    }\n",
       "</style>\n",
       "<table border=\"1\" class=\"dataframe\">\n",
       "  <thead>\n",
       "    <tr style=\"text-align: right;\">\n",
       "      <th></th>\n",
       "      <th>image_id</th>\n",
       "      <th>data_provider</th>\n",
       "      <th>isup_grade</th>\n",
       "      <th>gleason_score</th>\n",
       "      <th>split</th>\n",
       "      <th>folder</th>\n",
       "    </tr>\n",
       "  </thead>\n",
       "  <tbody>\n",
       "    <tr>\n",
       "      <th>805</th>\n",
       "      <td>25a27922edaf3f338e8693ededcbe1c2</td>\n",
       "      <td>radboud</td>\n",
       "      <td>4</td>\n",
       "      <td>4+4</td>\n",
       "      <td>6</td>\n",
       "      <td>1</td>\n",
       "    </tr>\n",
       "    <tr>\n",
       "      <th>3218</th>\n",
       "      <td>f232dc705893be350eaf1afd474818aa</td>\n",
       "      <td>karolinska</td>\n",
       "      <td>2</td>\n",
       "      <td>3+4</td>\n",
       "      <td>3</td>\n",
       "      <td>1</td>\n",
       "    </tr>\n",
       "    <tr>\n",
       "      <th>9513</th>\n",
       "      <td>f0a6026f3c1dafdf2496721f3721c039</td>\n",
       "      <td>karolinska</td>\n",
       "      <td>1</td>\n",
       "      <td>3+3</td>\n",
       "      <td>2</td>\n",
       "      <td>2</td>\n",
       "    </tr>\n",
       "    <tr>\n",
       "      <th>8682</th>\n",
       "      <td>647946e65654e3e71e42eea5cc95d01a</td>\n",
       "      <td>karolinska</td>\n",
       "      <td>2</td>\n",
       "      <td>3+4</td>\n",
       "      <td>7</td>\n",
       "      <td>1</td>\n",
       "    </tr>\n",
       "    <tr>\n",
       "      <th>7508</th>\n",
       "      <td>e4bbe0282fbed7b4c2e82a36fec5246b</td>\n",
       "      <td>radboud</td>\n",
       "      <td>2</td>\n",
       "      <td>3+4</td>\n",
       "      <td>4</td>\n",
       "      <td>2</td>\n",
       "    </tr>\n",
       "  </tbody>\n",
       "</table>\n",
       "</div>"
      ],
      "text/plain": [
       "                              image_id data_provider  isup_grade  \\\n",
       "805   25a27922edaf3f338e8693ededcbe1c2       radboud           4   \n",
       "3218  f232dc705893be350eaf1afd474818aa    karolinska           2   \n",
       "9513  f0a6026f3c1dafdf2496721f3721c039    karolinska           1   \n",
       "8682  647946e65654e3e71e42eea5cc95d01a    karolinska           2   \n",
       "7508  e4bbe0282fbed7b4c2e82a36fec5246b       radboud           2   \n",
       "\n",
       "     gleason_score  split  folder  \n",
       "805            4+4      6       1  \n",
       "3218           3+4      3       1  \n",
       "9513           3+3      2       2  \n",
       "8682           3+4      7       1  \n",
       "7508           3+4      4       2  "
      ]
     },
     "execution_count": 11,
     "metadata": {},
     "output_type": "execute_result"
    }
   ],
   "source": [
    "train_df.head()"
   ]
  },
  {
   "cell_type": "markdown",
   "metadata": {
    "colab_type": "text",
    "id": "XT8944SFMEnI"
   },
   "source": [
    "# Augmentation"
   ]
  },
  {
   "cell_type": "code",
   "execution_count": 12,
   "metadata": {
    "colab": {},
    "colab_type": "code",
    "id": "4_owBQZXMEnI"
   },
   "outputs": [],
   "source": [
    "train_transforms = A.Compose([A.Transpose(p=0.5), \n",
    "                             A.VerticalFlip(p=0.5),\n",
    "                             A.HorizontalFlip(p=0.5)])\n",
    "val_transforms = A.Compose([])"
   ]
  },
  {
   "cell_type": "markdown",
   "metadata": {
    "colab_type": "text",
    "id": "prEvPZqbMEnM"
   },
   "source": [
    "# Dataset"
   ]
  },
  {
   "cell_type": "code",
   "execution_count": 13,
   "metadata": {
    "colab": {},
    "colab_type": "code",
    "id": "oVhtDdaJtIha"
   },
   "outputs": [],
   "source": [
    "def get_tiles(img, SZ=256, N=36):\n",
    "    '''\n",
    "    dynamically select SZ and N\n",
    "    img: numpy array since this image has been processed by select_level, remove_gray, crop, and transpose\n",
    "    Return \n",
    "        tiles, SZ, N\n",
    "    '''\n",
    "    \n",
    "    # pad img\n",
    "    h, w, c = img.shape\n",
    "    pad_h = (SZ - h % SZ) % SZ \n",
    "    pad_w = (SZ - w % SZ) % SZ \n",
    "\n",
    "    img2 = np.pad(img, [[pad_h // 2, pad_h - pad_h // 2], \n",
    "                        [pad_w // 2, pad_w - pad_w//2], \n",
    "                        [0,0]], constant_values=255)\n",
    "    \n",
    "    # choose tiles\n",
    "    img3 = img2.reshape(\n",
    "        img2.shape[0] // SZ,\n",
    "        SZ,\n",
    "        img2.shape[1] // SZ,\n",
    "        SZ,\n",
    "        3\n",
    "    )\n",
    "    \n",
    "    new_row, new_col = img3.shape[0], img3.shape[2]\n",
    "    img3 = img3.transpose(0, 2, 1, 3, 4).reshape(-1, SZ, SZ, 3) # (783, 256, 256, 3)\n",
    "    info = (img3.reshape(img3.shape[0],-1).sum(-1) < WHITE_TR * SZ*SZ*3*255).sum() # how many tiles are not white\n",
    "    \n",
    "    # get new N\n",
    "    possible_N = int(np.sqrt(info))**2\n",
    "    if N < possible_N:\n",
    "        N = possible_N\n",
    "        \n",
    "    idxs = np.argsort(img3.reshape(img3.shape[0],-1).sum(-1))[:N]\n",
    "    tiles = img3[idxs]\n",
    "        \n",
    "    return tiles, SZ, N, info"
   ]
  },
  {
   "cell_type": "code",
   "execution_count": 14,
   "metadata": {},
   "outputs": [],
   "source": [
    "def find_tiles(img, SZ=256, N=36):\n",
    "    tiles, SZ, N, info = get_tiles(img, SZ=SZ, N=N)\n",
    "\n",
    "    \n",
    "    # too much white tiles\n",
    "    while info <= int(N_TR * N) and SZ > 64:\n",
    "        SZ = SZ // 2\n",
    "        tiles, SZ, N, info = get_tiles(img, SZ=SZ, N=N)\n",
    "        \n",
    "        \n",
    "    # pad \n",
    "    # for example 32 < 30(0.85*36) \n",
    "    if tiles.shape[0] < N:\n",
    "        tiles = np.pad(tiles, [ [0, N-len(tiles)], [0,0],[0,0],[0,0]], constant_values=255)\n",
    "        \n",
    "        \n",
    "    return tiles, SZ, N, info"
   ]
  },
  {
   "cell_type": "code",
   "execution_count": 15,
   "metadata": {
    "colab": {},
    "colab_type": "code",
    "id": "ZuVW0J9sMEnM"
   },
   "outputs": [],
   "source": [
    "class MyTrainDataset(Dataset):\n",
    "    def __init__(self, df, split='train', shuffle_df=False, shuffle_tiles=False):\n",
    "        super().__init__()\n",
    "        \n",
    "        if shuffle_df:\n",
    "            df = shuffle(df)\n",
    "        self.df = df.reset_index(drop=True)\n",
    "        \n",
    "        self.split = split\n",
    "        self.shuffle_tiles = shuffle_tiles\n",
    "            \n",
    "        \n",
    "    def __len__(self):\n",
    "        return len(self.df)\n",
    "    \n",
    "    \n",
    "    def __getitem__(self, idx):\n",
    "        \n",
    "        # read img\n",
    "        name = self.df.image_id[idx] \n",
    "        folder = self.df.folder[idx]\n",
    "        myzip = ZipFile(f'pandacroppedlevel1{folder}.zip')\n",
    "        path = f'train{folder}/{name}.jpeg'\n",
    "        img = myzip.open(path)\n",
    "        img = Image.open(img)\n",
    "        img = np.array(img)\n",
    "        \n",
    "\n",
    "\n",
    "        tiles, SZ, N, info = find_tiles(img) # find suitable tiles, SZ, N\n",
    "        \n",
    "\n",
    "        # apply transform to each img\n",
    "        imgs = []\n",
    "        for t in tiles:\n",
    "            if self.split == 'train':\n",
    "                t_aug = train_transforms(**{'image': t})['image']\n",
    "            elif self.split == 'val':\n",
    "                t_aug = val_transforms(**{'image': t})['image']\n",
    "                \n",
    "            imgs.append(t_aug) \n",
    "        \n",
    "        \n",
    "        # shuffle tiles\n",
    "        if self.shuffle_tiles:\n",
    "            imgs = shuffle(imgs)\n",
    "     \n",
    "        # concat\n",
    "        n = int(np.sqrt(N)) # new Z\n",
    "        images = np.zeros((SZ*n, SZ*n, 3), dtype=np.int32) # new SZ\n",
    "        for i in range(n):\n",
    "            for j in range(n):\n",
    "                images[i*SZ : (i+1)*SZ, j*SZ : (j+1)*SZ, :] = imgs[i*n+j]\n",
    "        \n",
    "            \n",
    "        # normalize \n",
    "        images = 255 - images # reverse \n",
    "        if self.split == 'train':\n",
    "            images = train_transforms(image=images)['image']\n",
    "        images = A.Normalize(mean=[0.5, 0.5, 0.5], std=[0.5, 0.5, 0.5])(image=images)['image']\n",
    "        \n",
    "        # resize \n",
    "        images = cv2.resize(images, (config.IMG_SIZE, config.IMG_SIZE))\n",
    "        images = torch.tensor(images).permute(2, 0, 1)\n",
    "        label = torch.tensor(self.df.isup_grade[idx])\n",
    "        return images, label"
   ]
  },
  {
   "cell_type": "code",
   "execution_count": 16,
   "metadata": {
    "colab": {},
    "colab_type": "code",
    "id": "MEFMs-taMEnO"
   },
   "outputs": [],
   "source": [
    "# test dataset\n",
    "if DEBUG:\n",
    "    train_ds = MyTrainDataset(train_df, 'train', shuffle_tiles=True)\n",
    "    x, y = train_ds[6]\n",
    "    print(x.shape)\n",
    "    plt.imshow((x*0.5+0.5).permute(1, 2, 0).numpy())\n",
    "    plt.title(y)\n",
    "    \n",
    "    del train_ds, x, y"
   ]
  },
  {
   "cell_type": "code",
   "execution_count": 17,
   "metadata": {
    "colab": {},
    "colab_type": "code",
    "id": "W97fcYNzMEnP"
   },
   "outputs": [],
   "source": [
    "train_ds = MyTrainDataset(train_df, 'train', shuffle_tiles=True)\n",
    "train_dl = DataLoader(train_ds, batch_size=config.BS, shuffle=True, drop_last=False) # use 32 means 2 images per batch, don't shuffle to preserve \n",
    "\n",
    "val_ds = MyTrainDataset(val_df, 'val', shuffle_tiles=False)\n",
    "val_dl = DataLoader(val_ds, batch_size=config.BS, shuffle=False, drop_last=False)\n",
    "\n",
    "test_ds = MyTrainDataset(test_df, 'val', shuffle_tiles=False)\n",
    "test_dl = DataLoader(test_ds, batch_size=config.BS, shuffle=False, drop_last=False)"
   ]
  },
  {
   "cell_type": "code",
   "execution_count": 18,
   "metadata": {
    "colab": {},
    "colab_type": "code",
    "id": "WTzlw_F1MEnR"
   },
   "outputs": [],
   "source": [
    "# test dl\n",
    "if DEBUG:\n",
    "    x, y = next(iter(train_dl))\n",
    "    plt.imshow((x[0]*0.5+0.5).permute(1, 2, 0).numpy())\n",
    "    plt.title(y[0])"
   ]
  },
  {
   "cell_type": "markdown",
   "metadata": {
    "colab_type": "text",
    "id": "kgiffLk8MEnS"
   },
   "source": [
    "# Model"
   ]
  },
  {
   "cell_type": "code",
   "execution_count": 19,
   "metadata": {
    "colab": {
     "base_uri": "https://localhost:8080/",
     "height": 241
    },
    "colab_type": "code",
    "id": "_pg8o72DtIhl",
    "outputId": "342eb537-c0e3-400a-d31c-ce4d14ffd7fa"
   },
   "outputs": [
    {
     "name": "stdout",
     "output_type": "stream",
     "text": [
      "Requirement already satisfied: efficientnet_pytorch in /opt/conda/lib/python3.7/site-packages (0.6.3)\n",
      "Requirement already satisfied: torch in /opt/conda/lib/python3.7/site-packages (from efficientnet_pytorch) (1.4.0)\n"
     ]
    }
   ],
   "source": [
    "!pip install efficientnet_pytorch"
   ]
  },
  {
   "cell_type": "code",
   "execution_count": 19,
   "metadata": {
    "colab": {},
    "colab_type": "code",
    "id": "zxzdcF3ttIhn"
   },
   "outputs": [],
   "source": [
    "from efficientnet_pytorch import EfficientNet\n",
    "\n",
    "class MyModel(nn.Module):\n",
    "    def __init__(self, backbone=f'efficientnet-b{V}'):\n",
    "        super().__init__()\n",
    "        \n",
    "        self.base = EfficientNet.from_pretrained(backbone)\n",
    "        self.fc = nn.Linear(self.base._fc.in_features, 1)\n",
    "        self.base._fc = nn.Identity()\n",
    "    \n",
    "    def forward(self, x):\n",
    "        x = self.base(x)\n",
    "        x = self.fc(x)\n",
    "        return x"
   ]
  },
  {
   "cell_type": "code",
   "execution_count": 20,
   "metadata": {
    "colab": {},
    "colab_type": "code",
    "id": "G6q-SCnHtIho"
   },
   "outputs": [],
   "source": [
    "if DEBUG:\n",
    "    model = MyModel()\n",
    "    x = torch.randn(2, 3, 1536, 1536) # for b4, it can only accepts 512\n",
    "    y = model(x)\n",
    "    print(y.shape)"
   ]
  },
  {
   "cell_type": "code",
   "execution_count": 21,
   "metadata": {
    "colab": {
     "base_uri": "https://localhost:8080/",
     "height": 34
    },
    "colab_type": "code",
    "id": "aZZISN79tIhq",
    "outputId": "f2161922-247e-4b14-c3cf-bbe633ec9512"
   },
   "outputs": [
    {
     "name": "stdout",
     "output_type": "stream",
     "text": [
      "Loaded pretrained weights for efficientnet-b1\n"
     ]
    }
   ],
   "source": [
    "model = MyModel()\n",
    "model = model.to(device)\n",
    "\n",
    "optimizer = optim.Adam(model.parameters(), lr=config.LR)\n",
    "scheduler = optim.lr_scheduler.ReduceLROnPlateau(optimizer, factor=0.2, patience=5, verbose=1)"
   ]
  },
  {
   "cell_type": "code",
   "execution_count": 22,
   "metadata": {
    "colab": {},
    "colab_type": "code",
    "id": "4fUKc4jwMEnX"
   },
   "outputs": [],
   "source": [
    "# freeze \n",
    "# def freeze_until(model, name):\n",
    "#     flag = False\n",
    "#     for n, p in model.named_parameters():\n",
    "#         if n == name:\n",
    "#             flag = True\n",
    "#         p.requires_grad = flag\n",
    "# freeze_until(model, 'model.layer4.2.conv1.weight')"
   ]
  },
  {
   "cell_type": "markdown",
   "metadata": {
    "colab_type": "text",
    "id": "HhHxQFPaMEnZ"
   },
   "source": [
    "# Training"
   ]
  },
  {
   "cell_type": "code",
   "execution_count": 23,
   "metadata": {
    "colab": {},
    "colab_type": "code",
    "id": "nh5unJkuMEna"
   },
   "outputs": [],
   "source": [
    "class OptimizedRounder():\n",
    "    def __init__(self):\n",
    "        self.coef_ = [0.5, 1.5, 2.5, 3.5, 4.5]\n",
    "\n",
    "    def _kappa_loss(self, coef, X, y):\n",
    "        X_p = np.copy(X)\n",
    "        for i, pred in enumerate(X_p):\n",
    "            if pred < coef[0]:\n",
    "                X_p[i] = 0\n",
    "            elif pred >= coef[0] and pred < coef[1]:\n",
    "                X_p[i] = 1\n",
    "            elif pred >= coef[1] and pred < coef[2]:\n",
    "                X_p[i] = 2\n",
    "            elif pred >= coef[2] and pred < coef[3]:\n",
    "                X_p[i] = 3\n",
    "            elif pred >= coef[3] and pred < coef[4]:\n",
    "                X_p[i] = 4\n",
    "            else:\n",
    "                X_p[i] = 5\n",
    "\n",
    "        ll = cohen_kappa_score(y, X_p, weights='quadratic')\n",
    "\n",
    "        return -ll\n",
    "\n",
    "    def fit(self, X, y):\n",
    "        loss_partial = partial(self._kappa_loss, X=X, y=y)\n",
    "        initial_coef = [0.5, 1.5, 2.5, 3.5, 4.5]\n",
    "        self.coef_ = sp.optimize.minimize(loss_partial, initial_coef, method='nelder-mead')\n",
    "\n",
    "    def predict(self, X, coef=[0.5, 1.5, 2.5, 3.5, 4.5]):\n",
    "        X_p = np.copy(X)\n",
    "        for i, pred in enumerate(X_p):\n",
    "            if pred < coef[0]:\n",
    "                X_p[i] = 0\n",
    "            elif pred >= coef[0] and pred < coef[1]:\n",
    "                X_p[i] = 1\n",
    "            elif pred >= coef[1] and pred < coef[2]:\n",
    "                X_p[i] = 2\n",
    "            elif pred >= coef[2] and pred < coef[3]:\n",
    "                X_p[i] = 3\n",
    "            elif pred >= coef[3] and pred < coef[4]:\n",
    "                X_p[i] = 4\n",
    "            else:\n",
    "                X_p[i] = 5\n",
    "        return X_p\n",
    "\n",
    "    def coefficients(self):\n",
    "        '''use after self.fit or error throws'''\n",
    "        return self.coef_['x']"
   ]
  },
  {
   "cell_type": "code",
   "execution_count": 24,
   "metadata": {
    "colab": {},
    "colab_type": "code",
    "id": "24Bhu4CbQ3pj"
   },
   "outputs": [],
   "source": [
    "rounder = OptimizedRounder()"
   ]
  },
  {
   "cell_type": "code",
   "execution_count": 25,
   "metadata": {
    "_cell_guid": "79c7e3d0-c299-4dcb-8224-4455121ee9b0",
    "_uuid": "d629ff2d2480ee46fbb7e2d37f6b5fab8052498a",
    "colab": {},
    "colab_type": "code",
    "id": "ysNGssXYMEnb"
   },
   "outputs": [],
   "source": [
    "def train_on(epoch):\n",
    "    \n",
    "    torch.cuda.empty_cache()\n",
    "    gc.collect()\n",
    "    \n",
    "    model.train()\n",
    "    \n",
    "    loss_epoch = []\n",
    "    preds_epoch = []\n",
    "    y_epoch = []\n",
    "    bar = tqdm(enumerate(train_dl), total=len(train_dl))\n",
    "    for i, (x, y) in bar:\n",
    "        x = x.to(device, dtype=torch.float32)\n",
    "        y = y.to(device, dtype=torch.float32)\n",
    "\n",
    "        y_preds = model(x) # [batch, 1]\n",
    "        y_preds = y_preds.view(-1) #[batch,]\n",
    "        \n",
    "        # get metrics\n",
    "        loss = nn.MSELoss()(y_preds, y)\n",
    "\n",
    "        # update\n",
    "        optimizer.zero_grad()\n",
    "        loss.backward()\n",
    "        optimizer.step()\n",
    "\n",
    "        # add\n",
    "        y_np = y.cpu().detach().numpy()\n",
    "        y_preds_np = rounder.predict(y_preds.cpu().detach().numpy())\n",
    "        loss_np = loss.cpu().detach().numpy()\n",
    "        \n",
    "        # add\n",
    "        preds_epoch.append(y_preds_np)\n",
    "        y_epoch.append(y_np)\n",
    "        loss_epoch.append(loss_np)\n",
    "    \n",
    "        \n",
    "        c = cohen_kappa_score(y_np, y_preds_np, weights='quadratic')\n",
    "        bar.set_description('loss: %.4f, cohen: %.4f' % (loss_np, c))\n",
    "        \n",
    "            \n",
    "        # clean\n",
    "        del x, y, y_preds, loss, y_np, y_preds_np, loss_np\n",
    "        torch.cuda.empty_cache()\n",
    "        gc.collect()\n",
    "        \n",
    "        \n",
    "    cohen = cohen_kappa_score(np.concatenate(preds_epoch), \n",
    "                              np.concatenate(y_epoch), \n",
    "                              weights='quadratic')\n",
    "    \n",
    "    print('Epoch: %d, Loss: %.4f, Cohen: %.4f' % (epoch, np.mean(loss_epoch), cohen))\n",
    "    return np.mean(loss_epoch), cohen\n"
   ]
  },
  {
   "cell_type": "code",
   "execution_count": 26,
   "metadata": {
    "colab": {
     "base_uri": "https://localhost:8080/",
     "height": 34
    },
    "colab_type": "code",
    "id": "3mJF8Fp4MEnc",
    "outputId": "45d026b1-f6a6-4689-d013-25632950c433"
   },
   "outputs": [
    {
     "data": {
      "text/plain": [
       "66"
      ]
     },
     "execution_count": 26,
     "metadata": {},
     "output_type": "execute_result"
    }
   ],
   "source": [
    "torch.cuda.empty_cache()\n",
    "gc.collect()"
   ]
  },
  {
   "cell_type": "code",
   "execution_count": 27,
   "metadata": {
    "colab": {},
    "colab_type": "code",
    "id": "lJmXBCfGMEnd"
   },
   "outputs": [],
   "source": [
    "if DEBUG:\n",
    "    train_on(1)"
   ]
  },
  {
   "cell_type": "code",
   "execution_count": 28,
   "metadata": {
    "colab": {},
    "colab_type": "code",
    "id": "XVbm0rdrMEnf"
   },
   "outputs": [],
   "source": [
    "def val_on(epoch, dl):\n",
    "\n",
    "    torch.cuda.empty_cache()\n",
    "    gc.collect()\n",
    "    \n",
    "    model.eval()\n",
    "    \n",
    "    loss_epoch = []\n",
    "    preds_epoch = []\n",
    "    y_epoch = []\n",
    "    bar = tqdm(enumerate(dl), total=len(dl))\n",
    "    with torch.no_grad():\n",
    "        for i, (x, y) in bar:\n",
    "            x = x.to(device, dtype=torch.float32)\n",
    "            y = y.to(device, dtype=torch.float32)\n",
    "            \n",
    "            y_preds = model(x).view(-1)\n",
    "\n",
    "            # get metrics\n",
    "            loss = nn.MSELoss()(y_preds, y)\n",
    "\n",
    "            # add\n",
    "            y_preds_np = y_preds.cpu().detach().numpy()\n",
    "            y_np = y.cpu().detach().numpy()\n",
    "            loss_np = loss.cpu().detach().numpy()\n",
    "            \n",
    "            loss_epoch.append(loss_np)\n",
    "            preds_epoch.append(y_preds_np)\n",
    "            y_epoch.append(y_np)\n",
    "            \n",
    "            \n",
    "            # get cohen\n",
    "            c = cohen_kappa_score(rounder.predict(y_preds_np), y_np, weights='quadratic')\n",
    "            bar.set_description('loss: %.4f, cohen: %.4f' % (loss_np, c))\n",
    "\n",
    "        \n",
    "            # clean\n",
    "            del x, y, y_preds, loss, y_np, y_preds_np, loss_np, c\n",
    "            torch.cuda.empty_cache()\n",
    "            gc.collect()\n",
    "            \n",
    "\n",
    "    # cohen\n",
    "    preds_epoch = np.concatenate(preds_epoch)\n",
    "    y_epoch = np.concatenate(y_epoch)\n",
    "    \n",
    "    rounder.fit(preds_epoch, y_epoch)\n",
    "    coef = rounder.coefficients()\n",
    "    preds_epoch = rounder.predict(preds_epoch, coef)\n",
    "    cohen = cohen_kappa_score(preds_epoch, y_epoch, weights='quadratic')\n",
    "    \n",
    "    print('Epoch: %d, Loss: %.4f, Cohen: %.4f' % (epoch, np.mean(loss_epoch), cohen))\n",
    "\n",
    "    return np.mean(loss_epoch), cohen, coef\n",
    "        \n",
    "            "
   ]
  },
  {
   "cell_type": "code",
   "execution_count": 29,
   "metadata": {
    "colab": {},
    "colab_type": "code",
    "id": "yatGooB0NqGJ"
   },
   "outputs": [],
   "source": [
    "if DEBUG:\n",
    "    val_on(1, val_dl)"
   ]
  },
  {
   "cell_type": "code",
   "execution_count": 31,
   "metadata": {},
   "outputs": [],
   "source": [
    "# should be put outside \n",
    "best_cohen = [0.8644] # last best score"
   ]
  },
  {
   "cell_type": "code",
   "execution_count": 32,
   "metadata": {
    "colab": {},
    "colab_type": "code",
    "id": "jn-RseODMEng"
   },
   "outputs": [],
   "source": [
    "def train(epochs):\n",
    "    \n",
    "    for e in range(epochs):\n",
    "        train_loss, train_cohen = train_on(e)\n",
    "        val_loss, val_cohen, coef = val_on(e, val_dl)\n",
    "        \n",
    "        # adjust lr\n",
    "        scheduler.step(val_loss)\n",
    "\n",
    "        # write to log\n",
    "        with open(config.LOG, 'a') as f:\n",
    "            f.write(time.ctime() + f' Epoch: {e}, Train loss: {(train_loss):.4f}, Train cohen: {(train_cohen):.4f}\\n   Val loss: {(val_loss):.4f}, Val cohen:{(val_cohen):.4f}, Coef: {coef} \\n\\n')\n",
    "            \n",
    "        # save best\n",
    "        best_cohen.append(val_cohen)\n",
    "        if val_cohen >= max(best_cohen):\n",
    "            print('save best model')\n",
    "            torch.save(model.state_dict(), f'efnb{V}-best.pth')\n",
    "            \n",
    "        torch.save(model.state_dict(), f'./efnb{V}-{e}.pth')\n",
    "        \n",
    "    torch.save(model.state_dict(), f'./efnb{V}-final.pth')"
   ]
  },
  {
   "cell_type": "code",
   "execution_count": null,
   "metadata": {
    "colab": {
     "base_uri": "https://localhost:8080/",
     "height": 49,
     "referenced_widgets": [
      "e09c170d496f4313a011586a6ce40f6c",
      "4b2d04d5bebd44db8020a9b5c022662d",
      "351c0bb21f384f939edd107a3856434e",
      "2dd18b1bc5ec464d95796345ea02e374",
      "38abdc65f6214b89ba50cbe554ac6f6d",
      "163520eb6cb443bf8734fea74568871c",
      "bc9986a2c1d14c2dabeea87e4b8a31d8",
      "fc64c80d7b2f48838ac5420ee3783fa8"
     ]
    },
    "colab_type": "code",
    "id": "SIGTzkCJMEnh",
    "outputId": "a98e235b-8002-4e41-fdb6-cab02d9251b6"
   },
   "outputs": [
    {
     "data": {
      "application/vnd.jupyter.widget-view+json": {
       "model_id": "6732e43182bf45e09c548b13a94401b0",
       "version_major": 2,
       "version_minor": 0
      },
      "text/plain": [
       "HBox(children=(FloatProgress(value=0.0, max=4645.0), HTML(value='')))"
      ]
     },
     "metadata": {},
     "output_type": "display_data"
    },
    {
     "name": "stderr",
     "output_type": "stream",
     "text": [
      "/opt/conda/lib/python3.7/site-packages/sklearn/metrics/_classification.py:620: RuntimeWarning: invalid value encountered in true_divide\n",
      "  k = np.sum(w_mat * confusion) / np.sum(w_mat * expected)\n"
     ]
    },
    {
     "name": "stdout",
     "output_type": "stream",
     "text": [
      "\n",
      "Epoch: 0, Loss: 0.3134, Cohen: 0.9342\n"
     ]
    },
    {
     "data": {
      "application/vnd.jupyter.widget-view+json": {
       "model_id": "8956520c55694cafb5b113ccc854c0e9",
       "version_major": 2,
       "version_minor": 0
      },
      "text/plain": [
       "HBox(children=(FloatProgress(value=0.0, max=332.0), HTML(value='')))"
      ]
     },
     "metadata": {},
     "output_type": "display_data"
    },
    {
     "name": "stdout",
     "output_type": "stream",
     "text": [
      "\n",
      "Epoch: 0, Loss: 0.9448, Cohen: 0.8615\n"
     ]
    },
    {
     "data": {
      "application/vnd.jupyter.widget-view+json": {
       "model_id": "f2a2d1b828b6485ba489b44ba4a3cf98",
       "version_major": 2,
       "version_minor": 0
      },
      "text/plain": [
       "HBox(children=(FloatProgress(value=0.0, max=4645.0), HTML(value='')))"
      ]
     },
     "metadata": {},
     "output_type": "display_data"
    },
    {
     "name": "stdout",
     "output_type": "stream",
     "text": [
      "\n",
      "Epoch: 1, Loss: 0.2799, Cohen: 0.9415\n"
     ]
    },
    {
     "data": {
      "application/vnd.jupyter.widget-view+json": {
       "model_id": "06f89842399a4ddea0ba3ba2c5837da8",
       "version_major": 2,
       "version_minor": 0
      },
      "text/plain": [
       "HBox(children=(FloatProgress(value=0.0, max=332.0), HTML(value='')))"
      ]
     },
     "metadata": {},
     "output_type": "display_data"
    },
    {
     "name": "stdout",
     "output_type": "stream",
     "text": [
      "\n",
      "Epoch: 1, Loss: 0.9073, Cohen: 0.8676\n",
      "save best model\n"
     ]
    },
    {
     "data": {
      "application/vnd.jupyter.widget-view+json": {
       "model_id": "3e44346324b342ab896621d32c6e3a4b",
       "version_major": 2,
       "version_minor": 0
      },
      "text/plain": [
       "HBox(children=(FloatProgress(value=0.0, max=4645.0), HTML(value='')))"
      ]
     },
     "metadata": {},
     "output_type": "display_data"
    },
    {
     "name": "stdout",
     "output_type": "stream",
     "text": [
      "\n",
      "Epoch: 2, Loss: 0.2459, Cohen: 0.9483\n"
     ]
    },
    {
     "data": {
      "application/vnd.jupyter.widget-view+json": {
       "model_id": "da8b99f7baed420e95a621e9b3cf82a9",
       "version_major": 2,
       "version_minor": 0
      },
      "text/plain": [
       "HBox(children=(FloatProgress(value=0.0, max=332.0), HTML(value='')))"
      ]
     },
     "metadata": {},
     "output_type": "display_data"
    },
    {
     "name": "stdout",
     "output_type": "stream",
     "text": [
      "\n",
      "Epoch: 2, Loss: 0.8608, Cohen: 0.8656\n"
     ]
    },
    {
     "data": {
      "application/vnd.jupyter.widget-view+json": {
       "model_id": "df15c03151ad4a67a072f4cda870a11c",
       "version_major": 2,
       "version_minor": 0
      },
      "text/plain": [
       "HBox(children=(FloatProgress(value=0.0, max=4645.0), HTML(value='')))"
      ]
     },
     "metadata": {},
     "output_type": "display_data"
    },
    {
     "name": "stdout",
     "output_type": "stream",
     "text": [
      "\n",
      "Epoch: 3, Loss: 0.3768, Cohen: 0.9235\n"
     ]
    },
    {
     "data": {
      "application/vnd.jupyter.widget-view+json": {
       "model_id": "6120cc8883414584bfb4eee000ffc5af",
       "version_major": 2,
       "version_minor": 0
      },
      "text/plain": [
       "HBox(children=(FloatProgress(value=0.0, max=332.0), HTML(value='')))"
      ]
     },
     "metadata": {},
     "output_type": "display_data"
    },
    {
     "name": "stdout",
     "output_type": "stream",
     "text": [
      "\n",
      "Epoch: 3, Loss: 0.8292, Cohen: 0.8560\n"
     ]
    },
    {
     "data": {
      "application/vnd.jupyter.widget-view+json": {
       "model_id": "2998a705eaa947c2a52b6fd2360c947a",
       "version_major": 2,
       "version_minor": 0
      },
      "text/plain": [
       "HBox(children=(FloatProgress(value=0.0, max=4645.0), HTML(value='')))"
      ]
     },
     "metadata": {},
     "output_type": "display_data"
    },
    {
     "name": "stdout",
     "output_type": "stream",
     "text": [
      "\n",
      "Epoch: 4, Loss: 0.3574, Cohen: 0.9277\n"
     ]
    },
    {
     "data": {
      "application/vnd.jupyter.widget-view+json": {
       "model_id": "089d426b5e3445efa0d66e1cbdf26297",
       "version_major": 2,
       "version_minor": 0
      },
      "text/plain": [
       "HBox(children=(FloatProgress(value=0.0, max=332.0), HTML(value='')))"
      ]
     },
     "metadata": {},
     "output_type": "display_data"
    },
    {
     "name": "stdout",
     "output_type": "stream",
     "text": [
      "\n",
      "Epoch: 4, Loss: 0.8751, Cohen: 0.8627\n"
     ]
    },
    {
     "data": {
      "application/vnd.jupyter.widget-view+json": {
       "model_id": "099b7b6f9cbc43a78b4b39907dc917c9",
       "version_major": 2,
       "version_minor": 0
      },
      "text/plain": [
       "HBox(children=(FloatProgress(value=0.0, max=4645.0), HTML(value='')))"
      ]
     },
     "metadata": {},
     "output_type": "display_data"
    },
    {
     "name": "stdout",
     "output_type": "stream",
     "text": [
      "\n",
      "Epoch: 5, Loss: 0.3551, Cohen: 0.9276\n"
     ]
    },
    {
     "data": {
      "application/vnd.jupyter.widget-view+json": {
       "model_id": "5dda0fc4e4704b85ac5337e5aafedcf4",
       "version_major": 2,
       "version_minor": 0
      },
      "text/plain": [
       "HBox(children=(FloatProgress(value=0.0, max=332.0), HTML(value='')))"
      ]
     },
     "metadata": {},
     "output_type": "display_data"
    },
    {
     "name": "stdout",
     "output_type": "stream",
     "text": [
      "\n",
      "Epoch: 5, Loss: 0.8755, Cohen: 0.8617\n"
     ]
    },
    {
     "data": {
      "application/vnd.jupyter.widget-view+json": {
       "model_id": "001d6138189749549189b5aa88ef07dc",
       "version_major": 2,
       "version_minor": 0
      },
      "text/plain": [
       "HBox(children=(FloatProgress(value=0.0, max=4645.0), HTML(value='')))"
      ]
     },
     "metadata": {},
     "output_type": "display_data"
    },
    {
     "name": "stdout",
     "output_type": "stream",
     "text": [
      "\n",
      "Epoch: 6, Loss: 0.3447, Cohen: 0.9294\n"
     ]
    },
    {
     "data": {
      "application/vnd.jupyter.widget-view+json": {
       "model_id": "166e1b2612314350895d8ecb00c63e0c",
       "version_major": 2,
       "version_minor": 0
      },
      "text/plain": [
       "HBox(children=(FloatProgress(value=0.0, max=332.0), HTML(value='')))"
      ]
     },
     "metadata": {},
     "output_type": "display_data"
    },
    {
     "name": "stdout",
     "output_type": "stream",
     "text": [
      "\n",
      "Epoch: 6, Loss: 0.8124, Cohen: 0.8667\n"
     ]
    },
    {
     "data": {
      "application/vnd.jupyter.widget-view+json": {
       "model_id": "b78883390d6d44b780225081f52de3ec",
       "version_major": 2,
       "version_minor": 0
      },
      "text/plain": [
       "HBox(children=(FloatProgress(value=0.0, max=4645.0), HTML(value='')))"
      ]
     },
     "metadata": {},
     "output_type": "display_data"
    }
   ],
   "source": [
    "train(30)"
   ]
  },
  {
   "cell_type": "code",
   "execution_count": 33,
   "metadata": {},
   "outputs": [
    {
     "data": {
      "text/plain": [
       "<All keys matched successfully>"
      ]
     },
     "execution_count": 33,
     "metadata": {},
     "output_type": "execute_result"
    }
   ],
   "source": [
    "model.load_state_dict(torch.load(f'efnb{V}-0.pth'))"
   ]
  },
  {
   "cell_type": "code",
   "execution_count": 35,
   "metadata": {
    "colab": {
     "referenced_widgets": [
      "9744595519f24b0bac0f9b4a77f7865a"
     ]
    },
    "colab_type": "code",
    "id": "WAc9HUJ4MEnj",
    "outputId": "73e5cfb2-8662-40c9-d12c-20048d549817"
   },
   "outputs": [
    {
     "data": {
      "application/vnd.jupyter.widget-view+json": {
       "model_id": "9f9203b94c9b40e682cb18af7bc4b29a",
       "version_major": 2,
       "version_minor": 0
      },
      "text/plain": [
       "HBox(children=(FloatProgress(value=0.0, max=332.0), HTML(value='')))"
      ]
     },
     "metadata": {},
     "output_type": "display_data"
    },
    {
     "name": "stderr",
     "output_type": "stream",
     "text": [
      "/opt/conda/lib/python3.7/site-packages/sklearn/metrics/_classification.py:620: RuntimeWarning: invalid value encountered in true_divide\n",
      "  k = np.sum(w_mat * confusion) / np.sum(w_mat * expected)\n"
     ]
    },
    {
     "name": "stdout",
     "output_type": "stream",
     "text": [
      "\n",
      "Epoch: 1, Loss: 1.1410, Cohen: 0.8296\n"
     ]
    },
    {
     "data": {
      "text/plain": [
       "(1.1410031,\n",
       " 0.8296214644835782,\n",
       " array([0.53895498, 1.44433128, 2.58725179, 3.29614676, 4.30293131]))"
      ]
     },
     "execution_count": 35,
     "metadata": {},
     "output_type": "execute_result"
    }
   ],
   "source": [
    "val_on(1, test_dl) \n",
    "# 0.8858\n",
    "# [0.51885345, 1.53662393, 2.44524873, 3.61225587, 4.29971003]"
   ]
  }
 ],
 "metadata": {
  "accelerator": "GPU",
  "colab": {
   "collapsed_sections": [],
   "name": "panda-efnb4-regression-train(colab).ipynb",
   "provenance": [],
   "toc_visible": true
  },
  "environment": {
   "name": "pytorch-gpu.1-4.m48",
   "type": "gcloud",
   "uri": "gcr.io/deeplearning-platform-release/pytorch-gpu.1-4:m48"
  },
  "kernelspec": {
   "display_name": "Python 3",
   "language": "python",
   "name": "python3"
  },
  "language_info": {
   "codemirror_mode": {
    "name": "ipython",
    "version": 3
   },
   "file_extension": ".py",
   "mimetype": "text/x-python",
   "name": "python",
   "nbconvert_exporter": "python",
   "pygments_lexer": "ipython3",
   "version": "3.7.6"
  },
  "widgets": {
   "application/vnd.jupyter.widget-state+json": {
    "163520eb6cb443bf8734fea74568871c": {
     "model_module": "@jupyter-widgets/base",
     "model_name": "LayoutModel",
     "state": {
      "_model_module": "@jupyter-widgets/base",
      "_model_module_version": "1.2.0",
      "_model_name": "LayoutModel",
      "_view_count": null,
      "_view_module": "@jupyter-widgets/base",
      "_view_module_version": "1.2.0",
      "_view_name": "LayoutView",
      "align_content": null,
      "align_items": null,
      "align_self": null,
      "border": null,
      "bottom": null,
      "display": null,
      "flex": null,
      "flex_flow": null,
      "grid_area": null,
      "grid_auto_columns": null,
      "grid_auto_flow": null,
      "grid_auto_rows": null,
      "grid_column": null,
      "grid_gap": null,
      "grid_row": null,
      "grid_template_areas": null,
      "grid_template_columns": null,
      "grid_template_rows": null,
      "height": null,
      "justify_content": null,
      "justify_items": null,
      "left": null,
      "margin": null,
      "max_height": null,
      "max_width": null,
      "min_height": null,
      "min_width": null,
      "object_fit": null,
      "object_position": null,
      "order": null,
      "overflow": null,
      "overflow_x": null,
      "overflow_y": null,
      "padding": null,
      "right": null,
      "top": null,
      "visibility": null,
      "width": null
     }
    },
    "2dd18b1bc5ec464d95796345ea02e374": {
     "model_module": "@jupyter-widgets/controls",
     "model_name": "HTMLModel",
     "state": {
      "_dom_classes": [],
      "_model_module": "@jupyter-widgets/controls",
      "_model_module_version": "1.5.0",
      "_model_name": "HTMLModel",
      "_view_count": null,
      "_view_module": "@jupyter-widgets/controls",
      "_view_module_version": "1.5.0",
      "_view_name": "HTMLView",
      "description": "",
      "description_tooltip": null,
      "layout": "IPY_MODEL_fc64c80d7b2f48838ac5420ee3783fa8",
      "placeholder": "​",
      "style": "IPY_MODEL_bc9986a2c1d14c2dabeea87e4b8a31d8",
      "value": " 313/1162 [21:04&lt;57:08,  4.04s/it]"
     }
    },
    "351c0bb21f384f939edd107a3856434e": {
     "model_module": "@jupyter-widgets/controls",
     "model_name": "FloatProgressModel",
     "state": {
      "_dom_classes": [],
      "_model_module": "@jupyter-widgets/controls",
      "_model_module_version": "1.5.0",
      "_model_name": "FloatProgressModel",
      "_view_count": null,
      "_view_module": "@jupyter-widgets/controls",
      "_view_module_version": "1.5.0",
      "_view_name": "ProgressView",
      "bar_style": "",
      "description": "loss: 1.8806, cohen: 0.5659:  27%",
      "description_tooltip": null,
      "layout": "IPY_MODEL_163520eb6cb443bf8734fea74568871c",
      "max": 1162,
      "min": 0,
      "orientation": "horizontal",
      "style": "IPY_MODEL_38abdc65f6214b89ba50cbe554ac6f6d",
      "value": 313
     }
    },
    "38abdc65f6214b89ba50cbe554ac6f6d": {
     "model_module": "@jupyter-widgets/controls",
     "model_name": "ProgressStyleModel",
     "state": {
      "_model_module": "@jupyter-widgets/controls",
      "_model_module_version": "1.5.0",
      "_model_name": "ProgressStyleModel",
      "_view_count": null,
      "_view_module": "@jupyter-widgets/base",
      "_view_module_version": "1.2.0",
      "_view_name": "StyleView",
      "bar_color": null,
      "description_width": "initial"
     }
    },
    "4b2d04d5bebd44db8020a9b5c022662d": {
     "model_module": "@jupyter-widgets/base",
     "model_name": "LayoutModel",
     "state": {
      "_model_module": "@jupyter-widgets/base",
      "_model_module_version": "1.2.0",
      "_model_name": "LayoutModel",
      "_view_count": null,
      "_view_module": "@jupyter-widgets/base",
      "_view_module_version": "1.2.0",
      "_view_name": "LayoutView",
      "align_content": null,
      "align_items": null,
      "align_self": null,
      "border": null,
      "bottom": null,
      "display": null,
      "flex": null,
      "flex_flow": null,
      "grid_area": null,
      "grid_auto_columns": null,
      "grid_auto_flow": null,
      "grid_auto_rows": null,
      "grid_column": null,
      "grid_gap": null,
      "grid_row": null,
      "grid_template_areas": null,
      "grid_template_columns": null,
      "grid_template_rows": null,
      "height": null,
      "justify_content": null,
      "justify_items": null,
      "left": null,
      "margin": null,
      "max_height": null,
      "max_width": null,
      "min_height": null,
      "min_width": null,
      "object_fit": null,
      "object_position": null,
      "order": null,
      "overflow": null,
      "overflow_x": null,
      "overflow_y": null,
      "padding": null,
      "right": null,
      "top": null,
      "visibility": null,
      "width": null
     }
    },
    "bc9986a2c1d14c2dabeea87e4b8a31d8": {
     "model_module": "@jupyter-widgets/controls",
     "model_name": "DescriptionStyleModel",
     "state": {
      "_model_module": "@jupyter-widgets/controls",
      "_model_module_version": "1.5.0",
      "_model_name": "DescriptionStyleModel",
      "_view_count": null,
      "_view_module": "@jupyter-widgets/base",
      "_view_module_version": "1.2.0",
      "_view_name": "StyleView",
      "description_width": ""
     }
    },
    "e09c170d496f4313a011586a6ce40f6c": {
     "model_module": "@jupyter-widgets/controls",
     "model_name": "HBoxModel",
     "state": {
      "_dom_classes": [],
      "_model_module": "@jupyter-widgets/controls",
      "_model_module_version": "1.5.0",
      "_model_name": "HBoxModel",
      "_view_count": null,
      "_view_module": "@jupyter-widgets/controls",
      "_view_module_version": "1.5.0",
      "_view_name": "HBoxView",
      "box_style": "",
      "children": [
       "IPY_MODEL_351c0bb21f384f939edd107a3856434e",
       "IPY_MODEL_2dd18b1bc5ec464d95796345ea02e374"
      ],
      "layout": "IPY_MODEL_4b2d04d5bebd44db8020a9b5c022662d"
     }
    },
    "fc64c80d7b2f48838ac5420ee3783fa8": {
     "model_module": "@jupyter-widgets/base",
     "model_name": "LayoutModel",
     "state": {
      "_model_module": "@jupyter-widgets/base",
      "_model_module_version": "1.2.0",
      "_model_name": "LayoutModel",
      "_view_count": null,
      "_view_module": "@jupyter-widgets/base",
      "_view_module_version": "1.2.0",
      "_view_name": "LayoutView",
      "align_content": null,
      "align_items": null,
      "align_self": null,
      "border": null,
      "bottom": null,
      "display": null,
      "flex": null,
      "flex_flow": null,
      "grid_area": null,
      "grid_auto_columns": null,
      "grid_auto_flow": null,
      "grid_auto_rows": null,
      "grid_column": null,
      "grid_gap": null,
      "grid_row": null,
      "grid_template_areas": null,
      "grid_template_columns": null,
      "grid_template_rows": null,
      "height": null,
      "justify_content": null,
      "justify_items": null,
      "left": null,
      "margin": null,
      "max_height": null,
      "max_width": null,
      "min_height": null,
      "min_width": null,
      "object_fit": null,
      "object_position": null,
      "order": null,
      "overflow": null,
      "overflow_x": null,
      "overflow_y": null,
      "padding": null,
      "right": null,
      "top": null,
      "visibility": null,
      "width": null
     }
    }
   }
  }
 },
 "nbformat": 4,
 "nbformat_minor": 4
}
